{
 "cells": [
  {
   "cell_type": "markdown",
   "metadata": {},
   "source": [
    "## 表格输出为图片"
   ]
  },
  {
   "cell_type": "code",
   "execution_count": 1,
   "metadata": {},
   "outputs": [
    {
     "data": {
      "text/plain": [
       "'C:\\\\Users\\\\12602\\\\Anaconda3\\\\中指每周模拟下载\\\\中指数据处理he出图\\\\2019到2020过渡'"
      ]
     },
     "execution_count": 1,
     "metadata": {},
     "output_type": "execute_result"
    }
   ],
   "source": [
    "import os\n",
    "os.getcwd()"
   ]
  },
  {
   "cell_type": "code",
   "execution_count": null,
   "metadata": {},
   "outputs": [],
   "source": []
  },
  {
   "cell_type": "code",
   "execution_count": 2,
   "metadata": {
    "code_folding": [
     4
    ]
   },
   "outputs": [],
   "source": [
    "import pandas as pd\n",
    "from prettytable import PrettyTable\n",
    "from PIL import Image, ImageDraw, ImageFont\n",
    "\n",
    "def create_table_img(data,img_name, **kwargs):\n",
    "    '''\n",
    "        img_name 图片名称 'D:/project/pythonwork/12306/t.png' 或 t.png\n",
    "        data 表格内容，首行为表头部\n",
    "        table_title 表格标题\n",
    "        line_height 底部描述行高\n",
    "        font 默认字体路径\n",
    "        default_font_size 默认字体大小\n",
    "        default_background_color 图片背景底色\n",
    "        table_top_heght 设置表格顶部留白高度\n",
    "        table_botton_heght 设置表格顶部留白高度\n",
    "        describe 底部描述文字\n",
    "    '''\n",
    "    space = 0 ## 表格边距\n",
    "    # 生成图片-------------------------------\n",
    "    ### 底部描述行高\n",
    "    if 'line_height' not in kwargs:  \n",
    "         # line_height = 1\n",
    "         line_height = 0\n",
    "    else:\n",
    "        line_height = kwargs['line_height']\n",
    "\n",
    "    ### 默认字体\n",
    "    if 'font' not in kwargs:  \n",
    "         kwargs['font'] = None\n",
    "\n",
    "    ### 默认字体大小\n",
    "    if 'default_font_size' not in kwargs:\n",
    "         kwargs['default_font_size'] = 12\n",
    "\n",
    "    ### 默认表标题字体大小\n",
    "    if 'table_title_font_size' not in kwargs:\n",
    "#          kwargs['table_title_font_size'] = 22\n",
    "         kwargs['table_title_font_size'] = 0\n",
    "\n",
    "\n",
    "    ### 图片背景底色\n",
    "    if 'default_background_color' not in kwargs:\n",
    "         kwargs['default_background_color'] = (255,255,255,255)\n",
    "\n",
    "    ### 设置表格顶部留白高度\n",
    "    if 'table_top_heght' not in kwargs:\n",
    "         kwargs['table_top_heght'] = kwargs['table_title_font_size'] + space + int(kwargs['table_title_font_size']/2)\n",
    "\n",
    "    ## 底部描述文字\n",
    "    if 'describe' in kwargs:\n",
    "        describe_len = len(kwargs['describe'])\n",
    "    else:\n",
    "        describe_len = 0\n",
    "\n",
    "    ### 设置表格底部留白高度\n",
    "    if 'table_botton_heght' not in kwargs:\n",
    "         kwargs['table_botton_heght'] = describe_len * kwargs['default_font_size'] + space\n",
    "    \n",
    "    ### 图片后缀\n",
    "    if 'img_type' not in kwargs:\n",
    "         kwargs['img_type'] = 'PNG'\n",
    "\n",
    "    ### 默认字体及字体大小\n",
    "    font = ImageFont.truetype(kwargs['font'], kwargs['default_font_size'], encoding='utf-8')\n",
    "    font2 = ImageFont.truetype(kwargs['font'], kwargs['table_title_font_size'], encoding='utf-8')\n",
    "    ## Image模块创建一个图片对象\n",
    "    im = Image.new('RGB',(1, 1),kwargs['default_background_color'])\n",
    "    ## ImageDraw向图片中进行操作，写入文字或者插入线条都可以\n",
    "    draw = ImageDraw.Draw(im)\n",
    "       \n",
    "    # 创建表格---------------------------------\n",
    "    tab = PrettyTable(border=True, header=True, header_style = 'title')\n",
    "    ## 第一行设置为表头\n",
    "    tab.field_names = data.pop(0)\n",
    "    for row in data:\n",
    "        tab.add_row(row)\n",
    "    tab_info = str(tab)\n",
    "    ## 根据插入图片中的文字内容和字体信息，来确定图片的最终大小\n",
    "    img_size = draw.multiline_textsize(tab_info, font=font)\n",
    "#     img_width = img_size[0]+space*2\n",
    "#     table_height = img_size[1]+space*2\n",
    "    img_width = img_size[0]\n",
    "    table_height = img_size[1]\n",
    "    img_height = table_height + kwargs['table_botton_heght'] + kwargs['table_top_heght']\n",
    "    im_new = im.resize((img_width, img_height))\n",
    "#     im_new = im.resize((405, 340))\n",
    "    del draw\n",
    "    del im\n",
    "    draw = ImageDraw.Draw(im_new, 'RGB')\n",
    "    draw.multiline_text((space,kwargs['table_top_heght']), tab_info + '\\n\\n', fill=(0,0,0), font=font)\n",
    "\n",
    "    ### 表标题--------------------------\n",
    "    if 'table_title' in kwargs:\n",
    "        title_left_padding = (img_width - len(table_title) * kwargs['table_title_font_size']) / 2\n",
    "        draw.multiline_text((title_left_padding, space), table_title, fill=(16,0,0), font=font2, align = 'center')\n",
    "\n",
    "\n",
    "    y = table_height + space/2\n",
    "\n",
    "    ### 描述内容-----------------------------------\n",
    "    if 'describe' in kwargs:\n",
    "        y = y + kwargs['default_font_size']\n",
    "        frist_row = kwargs['describe'].pop(0)\n",
    "        draw.text((space,y), frist_row, fill=(255,0,0), font=font)\n",
    "        for describe_row in kwargs['describe']:\n",
    "            y = y + kwargs['default_font_size'] + line_height\n",
    "            draw.text((space,y), describe_row, fill=(0,0,0), font=font)\n",
    "    del draw\n",
    "    ### 保存为图片\n",
    "    im_new.save(img_name,  kwargs['img_type'], quality=200)\n",
    "    return True\n",
    "\n"
   ]
  },
  {
   "cell_type": "markdown",
   "metadata": {},
   "source": [
    "## 整理所需数据"
   ]
  },
  {
   "cell_type": "code",
   "execution_count": null,
   "metadata": {},
   "outputs": [],
   "source": []
  },
  {
   "cell_type": "code",
   "execution_count": 3,
   "metadata": {},
   "outputs": [],
   "source": [
    "import os\n",
    "import pyecharts\n",
    "import datetime\n",
    "import pandas as pd\n",
    "import numpy as np\n",
    "\n",
    "\n",
    "# 全局  当前周(实际为上周) / 当前月 / 上一个月\n",
    "currentWeek = 1    # 本周\n",
    "currentMonth = 1   # 这个月\n",
    "lastMonth = 12     # 上个月"
   ]
  },
  {
   "cell_type": "code",
   "execution_count": 4,
   "metadata": {
    "code_folding": [
     0
    ]
   },
   "outputs": [],
   "source": [
    "# 城市能级 city_map\n",
    "\n",
    "city_map = {\"上海\": \"一二线\",\n",
    "\"北京\": \"一二线\",\n",
    "\"重庆\": \"一二线\",\n",
    "\"广州\": \"一二线\",\n",
    "\"深圳\": \"一二线\",\n",
    "\"天津\": \"一二线\",\n",
    "\"成都\": \"一二线\",\n",
    "\"杭州\": \"一二线\",\n",
    "\"武汉\": \"一二线\",\n",
    "\"苏州\": \"一二线\",\n",
    "\"南京\": \"一二线\",\n",
    "\"青岛\": \"一二线\",\n",
    "\"郑州\": \"一二线\",\n",
    "\"宁波\": \"一二线\",\n",
    "\"佛山\": \"一二线\",\n",
    "\"西安\": \"一二线\",\n",
    "\"长沙\": \"一二线\",\n",
    "\"无锡\": \"三四线\",\n",
    "\"温州\": \"三四线\",\n",
    "\"东莞\": \"三四线\",\n",
    "\"福州\": \"一二线\",\n",
    "\"济南\": \"一二线\",\n",
    "\"厦门\": \"一二线\",\n",
    "\"南通\": \"三四线\",\n",
    "\"沈阳\": \"一二线\",\n",
    "\"合肥\": \"一二线\",\n",
    "\"石家庄\": \"一二线\",\n",
    "\"哈尔滨\": \"一二线\",\n",
    "\"昆明\": \"一二线\",\n",
    "\"常州\": \"三四线\",\n",
    "\"嘉兴\": \"三四线\",\n",
    "\"泉州\": \"三四线\",\n",
    "\"烟台\": \"三四线\",\n",
    "\"台州\": \"三四线\",\n",
    "\"唐山\": \"三四线\",\n",
    "\"潍坊\": \"三四线\",\n",
    "\"绍兴\": \"三四线\",\n",
    "\"金华\": \"三四线\",\n",
    "\"南昌\": \"一二线\",\n",
    "\"长春\": \"一二线\",\n",
    "\"惠州\": \"三四线\",\n",
    "\"大连\": \"一二线\",\n",
    "\"南宁\": \"一二线\",\n",
    "\"临沂\": \"三四线\",\n",
    "\"徐州\": \"三四线\",\n",
    "\"中山\": \"三四线\",\n",
    "\"廊坊\": \"三四线\",\n",
    "\"珠海\": \"三四线\",\n",
    "\"扬州\": \"三四线\",\n",
    "\"保定\": \"三四线\",\n",
    "\"泰州\": \"三四线\",\n",
    "\"济宁\": \"三四线\",\n",
    "\"湖州\": \"三四线\",\n",
    "\"洛阳\": \"三四线\",\n",
    "\"威海\": \"三四线\",\n",
    "\"淄博\": \"三四线\",\n",
    "\"镇江\": \"三四线\",\n",
    "\"盐城\": \"三四线\",\n",
    "\"三亚\": \"三四线\",\n",
    "\"沧州\": \"三四线\",\n",
    "\"邯郸\": \"三四线\",\n",
    "\"贵阳\": \"一二线\",\n",
    "\"赣州\": \"三四线\",\n",
    "\"太原\": \"一二线\",\n",
    "\"漳州\": \"三四线\",\n",
    "\"呼和浩特\": \"一二线\",\n",
    "\"芜湖\": \"三四线\",\n",
    "\"兰州\": \"一二线\",\n",
    "\"株洲\": \"三四线\",\n",
    "\"江门\": \"三四线\",\n",
    "\"东营\": \"三四线\",\n",
    "\"泰安\": \"三四线\",\n",
    "\"阜阳\": \"三四线\",\n",
    "\"宜昌\": \"三四线\",\n",
    "\"南阳\": \"三四线\",\n",
    "\"衡阳\": \"三四线\",\n",
    "\"商丘\": \"三四线\",\n",
    "\"舟山\": \"三四线\",\n",
    "\"新乡\": \"三四线\",\n",
    "\"包头\": \"三四线\",\n",
    "\"上饶\": \"三四线\",\n",
    "\"菏泽\": \"三四线\",\n",
    "\"乌鲁木齐\": \"一二线\",\n",
    "\"驻马店\": \"三四线\",\n",
    "\"海口\": \"三四线\",\n",
    "\"淮安\": \"三四线\",\n",
    "\"信阳\": \"三四线\",\n",
    "\"襄阳\": \"三四线\",\n",
    "\"南充\": \"三四线\",\n",
    "\"连云港\": \"三四线\",\n",
    "\"岳阳\": \"三四线\",\n",
    "\"衢州\": \"三四线\",\n",
    "\"桂林\": \"三四线\",\n",
    "\"周口\": \"三四线\",\n",
    "\"安阳\": \"三四线\",\n",
    "\"九江\": \"三四线\",\n",
    "\"绵阳\": \"三四线\",\n",
    "\"德州\": \"三四线\",\n",
    "\"柳州\": \"三四线\",\n",
    "\"莆田\": \"三四线\",\n",
    "\"聊城\": \"三四线\",\n",
    "\"马鞍山\": \"三四线\",\n",
    "\"大庆\": \"三四线\",\n",
    "\"汕头\": \"三四线\",\n",
    "\"宜春\": \"三四线\",\n",
    "\"常德\": \"三四线\",\n",
    "\"宿迁\": \"三四线\",\n",
    "\"咸阳\": \"三四线\",\n",
    "\"黄冈\": \"三四线\",\n",
    "\"丽水\": \"三四线\",\n",
    "\"玉林\": \"三四线\",\n",
    "\"郴州\": \"三四线\",\n",
    "\"湛江\": \"三四线\",\n",
    "\"泸州\": \"三四线\",\n",
    "\"许昌\": \"三四线\",\n",
    "\"清远\": \"三四线\",\n",
    "\"蚌埠\": \"三四线\",\n",
    "\"安庆\": \"三四线\",\n",
    "\"茂名\": \"三四线\",\n",
    "\"荆州\": \"三四线\",\n",
    "\"秦皇岛\": \"三四线\",\n",
    "\"宿州\": \"三四线\",\n",
    "\"六安\": \"三四线\",\n",
    "\"鄂尔多斯\": \"三四线\",\n",
    "\"宝鸡\": \"三四线\",\n",
    "\"肇庆\": \"三四线\",\n",
    "\"滁州\": \"三四线\",\n",
    "\"达州\": \"三四线\",\n",
    "\"宜宾\": \"三四线\",\n",
    "\"龙岩\": \"三四线\",\n",
    "\"枣庄\": \"三四线\",\n",
    "\"邵阳\": \"三四线\",\n",
    "\"榆林\": \"三四线\",\n",
    "\"银川\": \"一二线\",\n",
    "\"鞍山\": \"三四线\",\n",
    "\"衡水\": \"三四线\",\n",
    "\"渭南\": \"三四线\",\n",
    "\"邢台\": \"三四线\",\n",
    "\"抚州\": \"三四线\",\n",
    "\"德阳\": \"三四线\",\n",
    "\"吉安\": \"三四线\",\n",
    "\"宣城\": \"三四线\",\n",
    "\"滨州\": \"三四线\",\n",
    "\"眉山\": \"三四线\",\n",
    "\"日照\": \"三四线\",\n",
    "\"亳州\": \"三四线\",\n",
    "\"承德\": \"三四线\",\n",
    "\"湘潭\": \"三四线\",\n",
    "\"三明\": \"三四线\",\n",
    "\"平顶山\": \"三四线\",\n",
    "\"乐山\": \"三四线\",\n",
    "\"濮阳\": \"三四线\",\n",
    "\"宁德\": \"三四线\",\n",
    "\"内江\": \"三四线\",\n",
    "\"锦州\": \"三四线\",\n",
    "\"广安\": \"三四线\",\n",
    "\"揭阳\": \"三四线\",\n",
    "\"资阳\": \"三四线\",\n",
    "\"营口\": \"三四线\",\n",
    "\"遂宁\": \"三四线\",\n",
    "\"长治\": \"三四线\",\n",
    "\"焦作\": \"三四线\",\n",
    "\"梅州\": \"三四线\",\n",
    "\"盘锦\": \"三四线\",\n",
    "\"张家口\": \"三四线\",\n",
    "\"益阳\": \"三四线\",\n",
    "\"西宁\": \"一二线\",\n",
    "\"怀化\": \"三四线\",\n",
    "\"临汾\": \"三四线\",\n",
    "\"运城\": \"三四线\",\n",
    "\"淮南\": \"三四线\",\n",
    "\"自贡\": \"三四线\",\n",
    "\"南平\": \"三四线\",\n",
    "\"韶关\": \"三四线\",\n",
    "\"十堰\": \"三四线\",\n",
    "\"孝感\": \"三四线\",\n",
    "\"铜陵\": \"三四线\",\n",
    "\"永州\": \"三四线\",\n",
    "\"大同\": \"三四线\",\n",
    "\"黄石\": \"三四线\",\n",
    "\"晋城\": \"三四线\",\n",
    "\"钦州\": \"三四线\",\n",
    "\"攀枝花\": \"三四线\",\n",
    "\"牡丹江\": \"三四线\",\n",
    "\"景德镇\": \"三四线\",\n",
    "\"开封\": \"三四线\",\n",
    "\"绥化\": \"三四线\",\n",
    "\"延安\": \"三四线\",\n",
    "\"百色\": \"三四线\",\n",
    "\"汉中\": \"三四线\",\n",
    "\"丹东\": \"三四线\",\n",
    "\"阳江\": \"三四线\",\n",
    "\"娄底\": \"三四线\",\n",
    "\"黄山\": \"三四线\",\n",
    "\"新余\": \"三四线\",\n",
    "\"萍乡\": \"三四线\",\n",
    "\"本溪\": \"三四线\",\n",
    "\"咸宁\": \"三四线\",\n",
    "\"抚顺\": \"三四线\",\n",
    "\"巴中\": \"三四线\",\n",
    "\"荆门\": \"三四线\",\n",
    "\"河源\": \"三四线\",\n",
    "\"淮北\": \"三四线\",\n",
    "\"广元\": \"三四线\",\n",
    "\"漯河\": \"三四线\",\n",
    "\"吕梁\": \"三四线\",\n",
    "\"葫芦岛\": \"三四线\",\n",
    "\"六盘水\": \"三四线\",\n",
    "\"防城港\": \"三四线\",\n",
    "\"安康\": \"三四线\",\n",
    "\"辽阳\": \"三四线\",\n",
    "\"来宾\": \"三四线\",\n",
    "\"朝阳\": \"三四线\",\n",
    "\"鹰潭\": \"三四线\",\n",
    "\"三门峡\": \"三四线\",\n",
    "\"晋中\": \"三四线\",\n",
    "\"酒泉\": \"三四线\",\n",
    "\"汕尾\": \"三四线\",\n",
    "\"鹤壁\": \"三四线\",\n",
    "\"齐齐哈尔\": \"三四线\",\n",
    "\"贺州\": \"三四线\",\n",
    "\"随州\": \"三四线\",\n",
    "\"鄂州\": \"三四线\",\n",
    "\"雅安\": \"三四线\",\n",
    "\"潮州\": \"三四线\",\n",
    "\"嘉峪关\": \"三四线\",\n",
    "\"商洛\": \"三四线\",\n",
    "\"云浮\": \"三四线\",\n",
    "\"庆阳\": \"三四线\",\n",
    "\"莱芜\": \"三四线\",\n",
    "\"阳泉\": \"三四线\",\n",
    "\"铁岭\": \"三四线\",\n",
    "\"佳木斯\": \"三四线\",\n",
    "\"平凉\": \"三四线\",\n",
    "\"白银\": \"三四线\",\n",
    "\"阜新\": \"三四线\",\n",
    "\"河池\": \"三四线\",\n",
    "\"武威\": \"三四线\",\n",
    "\"池州\": \"三四线\",\n",
    "\"黑河\": \"三四线\",\n",
    "\"张家界\": \"三四线\",\n",
    "\"朔州\": \"三四线\",\n",
    "\"鸡西\": \"三四线\",\n",
    "\"铜川\": \"三四线\",\n",
    "\"张掖\": \"三四线\",\n",
    "\"乌兰察布\": \"三四线\",\n",
    "\"伊春\": \"三四线\",\n",
    "\"双鸭山\": \"三四线\",\n",
    "\"梧州\": \"三四线\",\n",
    "\"鹤岗\": \"三四线\"}"
   ]
  },
  {
   "cell_type": "code",
   "execution_count": 5,
   "metadata": {
    "code_folding": []
   },
   "outputs": [],
   "source": [
    "# 底稿城市\n",
    "city_digao = [\"北京\",\"上海\",\"广州\",\"深圳\",\"南京\",\"苏州\",\"厦门\",\"合肥\",\"天津\",\"武汉\",\"杭州\",\"福州\",\"济南\",\n",
    "              \"南昌\",\"无锡\",\"宁波\",\"成都\",\"郑州\",\"南宁\",\"长沙\",\"西安\",\"重庆\",\"青岛\",\"沈阳\",\"大连\",\"常州\",\n",
    "              \"徐州\",\"南通\",\"嘉兴\",\"绍兴\",\"温州\",\"镇江\",\"扬州\",\"泉州\",\"漳州\",\"佛山\",\"东莞\",\"中山\",\"惠州\",\n",
    "              \"珠海\",\"安庆\",\"株洲\",\"阜阳\",\"蚌埠\",\"常德\",\"湘潭\",\"芜湖\",\"岳阳\",\"荆门\",\"荆州\",\"襄阳\",\"宜昌\",\n",
    "              \"抚州\",\"赣州\",\"吉安\",\"九江\",\"洛阳\",\"信阳\",\"新乡\",\"南阳\",\"淄博\",\"临沂\",\"兰州\",\"昆明\",\"宝鸡\",\n",
    "              \"德阳\",\"贵阳\",\"哈尔滨\",\"衡阳\",\"呼和浩特\",\"湖州\",\"淮安\",\"济宁\",\"江门\",\"金华\",\"廊坊\",\"丽水\",\n",
    "              \"连云港\",\"龙岩\",\"泸州\",\"马鞍山\",\"南平\",\"内江\",\"宁德\",\"莆田\",\"衢州\",\"三明\",\"汕头\",\"石家庄\",\n",
    "              \"台州\",\"太原\",\"泰州\",\"潍坊\",\"乌鲁木齐\",\"烟台\",\"盐城\",\"银川\",\"湛江\",\"长春\",\"肇庆\",\"茂名\"]\n",
    "city_digao = pd.DataFrame(city_digao, columns=['城市'])"
   ]
  },
  {
   "cell_type": "code",
   "execution_count": 6,
   "metadata": {
    "code_folding": []
   },
   "outputs": [],
   "source": [
    "# 读取数据\n",
    "\n",
    "deal = pd.read_excel('../数据整理/中指2019年数据.xlsx', sheet_name='土地成交明细')\n",
    "# deal = deal[deal['周'] != currentWeek+1]\n",
    "liupai = pd.read_excel('../数据整理/中指2019年数据.xlsx', sheet_name='土地流拍')\n",
    "# liupai = liupai[liupai['周'] != currentWeek+1]\n",
    "\n",
    "deal.replace('--', 0, inplace=True)\n",
    "liupai.replace('--', 0, inplace=True)\n",
    "\n",
    "deal.loc[deal[deal['起始价(万元)']==0].index, '起始价(万元)'] = deal[deal['起始价(万元)']==0]['成交价(万元)']\n",
    "deal.loc[deal[deal['成交价(万元)']==0].index, '成交价(万元)'] = deal[deal['成交价(万元)']==0]['起始价(万元)']"
   ]
  },
  {
   "cell_type": "code",
   "execution_count": 7,
   "metadata": {},
   "outputs": [],
   "source": [
    "# 处理流拍数据\n",
    "liupai['成交价(万元)'] = 0\n",
    "liupai['成交楼面价(元/㎡)'] = 0\n",
    "liupai['溢价率'] = '流拍'\n",
    "liupai['受让单位'] = ''\n",
    "liupai['土地星级'] = '0星'\n",
    "liupai['溢价率分类'] = '流拍'\n",
    "\n",
    "\n",
    "# 处理成交数据\n",
    "deal['溢价率分类'] = deal['溢价率'].map(lambda x: '底价' if x<=10 else '高溢价' if x>=50 else '溢价' )\n",
    "\n",
    "deal_liupai = pd.concat((deal, liupai), ignore_index=True, sort=False)\n",
    "deal_liupai['日'] = deal_liupai['截止日期'].map(lambda x: str(x.split(\"-\")[2]).lstrip('0'))\n",
    "deal_liupai['城市能级'] = deal_liupai['城市'].map(lambda x: city_map[x])\n",
    "deal_liupai = deal_liupai[deal_liupai['年']==2020]"
   ]
  },
  {
   "cell_type": "markdown",
   "metadata": {},
   "source": [
    "### 101成每月结构"
   ]
  },
  {
   "cell_type": "code",
   "execution_count": 8,
   "metadata": {},
   "outputs": [
    {
     "data": {
      "text/html": [
       "<div>\n",
       "<style scoped>\n",
       "    .dataframe tbody tr th:only-of-type {\n",
       "        vertical-align: middle;\n",
       "    }\n",
       "\n",
       "    .dataframe tbody tr th {\n",
       "        vertical-align: top;\n",
       "    }\n",
       "\n",
       "    .dataframe thead th {\n",
       "        text-align: right;\n",
       "    }\n",
       "</style>\n",
       "<table border=\"1\" class=\"dataframe\">\n",
       "  <thead>\n",
       "    <tr style=\"text-align: right;\">\n",
       "      <th>溢价率分类</th>\n",
       "      <th>底价</th>\n",
       "      <th>流拍</th>\n",
       "      <th>溢价</th>\n",
       "      <th>高溢价</th>\n",
       "    </tr>\n",
       "    <tr>\n",
       "      <th>月</th>\n",
       "      <th></th>\n",
       "      <th></th>\n",
       "      <th></th>\n",
       "      <th></th>\n",
       "    </tr>\n",
       "  </thead>\n",
       "  <tbody>\n",
       "    <tr>\n",
       "      <th>1</th>\n",
       "      <td>13</td>\n",
       "      <td>0</td>\n",
       "      <td>10</td>\n",
       "      <td>1</td>\n",
       "    </tr>\n",
       "  </tbody>\n",
       "</table>\n",
       "</div>"
      ],
      "text/plain": [
       "溢价率分类  底价  流拍  溢价  高溢价\n",
       "月                     \n",
       "1      13   0  10    1"
      ]
     },
     "execution_count": 8,
     "metadata": {},
     "output_type": "execute_result"
    }
   ],
   "source": [
    "b = deal_liupai.pivot_table(values='地块名称', columns='溢价率分类', aggfunc='count',index='月')\n",
    "b['流拍'] = 0\n",
    "# b.dropna(axis=0,inplace=True)\n",
    "b.fillna(0, inplace=True)\n",
    "b = b[['底价', '流拍', '溢价', '高溢价']]\n",
    "b"
   ]
  },
  {
   "cell_type": "code",
   "execution_count": 9,
   "metadata": {},
   "outputs": [
    {
     "data": {
      "text/html": [
       "<div>\n",
       "<style scoped>\n",
       "    .dataframe tbody tr th:only-of-type {\n",
       "        vertical-align: middle;\n",
       "    }\n",
       "\n",
       "    .dataframe tbody tr th {\n",
       "        vertical-align: top;\n",
       "    }\n",
       "\n",
       "    .dataframe thead th {\n",
       "        text-align: right;\n",
       "    }\n",
       "</style>\n",
       "<table border=\"1\" class=\"dataframe\">\n",
       "  <thead>\n",
       "    <tr style=\"text-align: right;\">\n",
       "      <th>溢价率分类</th>\n",
       "      <th>底价</th>\n",
       "      <th>流拍</th>\n",
       "      <th>溢价</th>\n",
       "      <th>高溢价</th>\n",
       "      <th>总计</th>\n",
       "      <th>总计流拍</th>\n",
       "    </tr>\n",
       "    <tr>\n",
       "      <th>月</th>\n",
       "      <th></th>\n",
       "      <th></th>\n",
       "      <th></th>\n",
       "      <th></th>\n",
       "      <th></th>\n",
       "      <th></th>\n",
       "    </tr>\n",
       "  </thead>\n",
       "  <tbody>\n",
       "    <tr>\n",
       "      <th>1月</th>\n",
       "      <td>0.5417</td>\n",
       "      <td>0.0000</td>\n",
       "      <td>0.4167</td>\n",
       "      <td>0.0417</td>\n",
       "      <td>24</td>\n",
       "      <td>24</td>\n",
       "    </tr>\n",
       "  </tbody>\n",
       "</table>\n",
       "</div>"
      ],
      "text/plain": [
       "溢价率分类      底价      流拍      溢价     高溢价  总计  总计流拍\n",
       "月                                              \n",
       "1月     0.5417  0.0000  0.4167  0.0417  24    24"
      ]
     },
     "execution_count": 9,
     "metadata": {},
     "output_type": "execute_result"
    }
   ],
   "source": [
    "b.eval(' 总计 = 底价+溢价+高溢价', inplace=True)\n",
    "b.eval(' 总计流拍 = 底价+溢价+流拍+高溢价', inplace=True)\n",
    "\n",
    "b['底价'] = (b['底价'] / b['总计']).apply(lambda x: format(x, '.4f')) \n",
    "b['流拍'] = (b['流拍'] / b['总计流拍']).apply(lambda x: format(x, '.4f')) \n",
    "b['溢价'] = (b['溢价'] / b['总计']).apply(lambda x: format(x, '.4f')) \n",
    "b['高溢价'] = (b['高溢价'] / b['总计']).apply(lambda x: format(x, '.4f')) \n",
    "\n",
    "yijia101 = b.copy()\n",
    "yijia101.rename(index={i:'{}月'.format(i) for i in yijia101.index}, inplace=True)\n",
    "\n",
    "yijia101"
   ]
  },
  {
   "cell_type": "markdown",
   "metadata": {},
   "source": [
    "## 房企"
   ]
  },
  {
   "cell_type": "code",
   "execution_count": null,
   "metadata": {},
   "outputs": [],
   "source": []
  },
  {
   "cell_type": "code",
   "execution_count": 10,
   "metadata": {},
   "outputs": [],
   "source": [
    "enterprise = pd.read_excel('../数据整理/中指2019年数据.xlsx', sheet_name='房企拿地')\n",
    "enterprise = enterprise[enterprise['周'] != currentWeek+1]\n",
    "enterprise = enterprise[enterprise['年'] != 2019]\n",
    "enterprise.fillna(0, inplace=True)\n",
    "enterprise = enterprise[['房企', '地块名称', '城市', '规划用途', '占地面积(万㎡)',\n",
    "           '规划建筑面积(万㎡)', '总成交金额(亿元)', '平均楼面价(元/㎡)',\n",
    "           '平均溢价率(%)', '土地权益(%)','权益金额(亿元)', '权益规划建筑面积(万㎡)', \n",
    "            '拿地时间', '城市能级', '年', '月', '周', '房企排名']]\n",
    "enterprise['城市能级'] = enterprise['城市'].map(lambda x: city_map.get(x, '三四线'))\n",
    "\n",
    "\n",
    "enterprise['日'] = enterprise['拿地时间'].map(lambda x: x.split(\"-\")[2].lstrip('0'))\n",
    "enterprise['溢价率结构'] = enterprise['平均溢价率(%)'].map(lambda x: '溢价率<10%' if x<=10 else '溢价率>50%' if x>=50 else '溢价率10-50%'  )\n",
    "# enterprise.head(1)"
   ]
  },
  {
   "cell_type": "markdown",
   "metadata": {},
   "source": [
    "### 整合成底稿\n",
    "\n",
    "```\n",
    "1.房企溢价率为平均溢价率（计算为平均值项）\t\t\t\t\t\n",
    "2.底价成交率=溢价率<10%地块数量/总计数量\t\t\t\t\t\n",
    "3.高溢价成交率=溢价率大于50%地块数量/总计数量\t\t\t\t\t\n",
    "```\n"
   ]
  },
  {
   "cell_type": "code",
   "execution_count": null,
   "metadata": {},
   "outputs": [],
   "source": []
  },
  {
   "cell_type": "code",
   "execution_count": null,
   "metadata": {},
   "outputs": [],
   "source": []
  },
  {
   "cell_type": "code",
   "execution_count": null,
   "metadata": {},
   "outputs": [],
   "source": []
  },
  {
   "cell_type": "code",
   "execution_count": null,
   "metadata": {},
   "outputs": [],
   "source": []
  },
  {
   "cell_type": "markdown",
   "metadata": {},
   "source": [
    "### 图2 TOP30周更"
   ]
  },
  {
   "cell_type": "code",
   "execution_count": 11,
   "metadata": {},
   "outputs": [],
   "source": [
    "top30 = enterprise[enterprise['房企排名'] == 'TOP30']\n",
    "top30 = top30.fillna(0)"
   ]
  },
  {
   "cell_type": "code",
   "execution_count": 12,
   "metadata": {},
   "outputs": [
    {
     "data": {
      "text/html": [
       "<div>\n",
       "<style scoped>\n",
       "    .dataframe tbody tr th:only-of-type {\n",
       "        vertical-align: middle;\n",
       "    }\n",
       "\n",
       "    .dataframe tbody tr th {\n",
       "        vertical-align: top;\n",
       "    }\n",
       "\n",
       "    .dataframe thead th {\n",
       "        text-align: right;\n",
       "    }\n",
       "</style>\n",
       "<table border=\"1\" class=\"dataframe\">\n",
       "  <thead>\n",
       "    <tr style=\"text-align: right;\">\n",
       "      <th>溢价率结构</th>\n",
       "      <th>溢价率10-50%</th>\n",
       "      <th>溢价率&lt;10%</th>\n",
       "    </tr>\n",
       "    <tr>\n",
       "      <th>周</th>\n",
       "      <th></th>\n",
       "      <th></th>\n",
       "    </tr>\n",
       "  </thead>\n",
       "  <tbody>\n",
       "    <tr>\n",
       "      <th>1</th>\n",
       "      <td>3</td>\n",
       "      <td>4</td>\n",
       "    </tr>\n",
       "  </tbody>\n",
       "</table>\n",
       "</div>"
      ],
      "text/plain": [
       "溢价率结构  溢价率10-50%  溢价率<10%\n",
       "周                        \n",
       "1              3        4"
      ]
     },
     "execution_count": 12,
     "metadata": {},
     "output_type": "execute_result"
    }
   ],
   "source": [
    "# 数据透视表\n",
    "top30_piove_week = top30.pivot_table(values='地块名称', columns='溢价率结构', aggfunc='count',index='周', fill_value=0)\n",
    "\n",
    "# top30_piove['总计'] = top30_piove['溢价率10-50%'] + top30_piove['溢价率<10%'] + top30_piove['溢价率>50%']\n",
    "# top30_piove['溢价率10-50%'] = (top30_piove['溢价率10-50%'] / top30_piove['总计']).apply(lambda x: format(x, '.1%')) \n",
    "# top30_piove['溢价率<10%'] = (top30_piove['溢价率<10%'] / top30_piove['总计']).apply(lambda x: format(x, '.1%')) \n",
    "# top30_piove['溢价率>50%'] = (top30_piove['溢价率>50%'] / top30_piove['总计']).apply(lambda x: format(x, '.1%')) \n",
    "# top30_piove = top30_piove[['溢价率10-50%', '溢价率<10%', '溢价率>50%']]\n",
    "\n",
    "top30_piove_week.head()"
   ]
  },
  {
   "cell_type": "markdown",
   "metadata": {},
   "source": [
    "#### 图4 TOP30 月更"
   ]
  },
  {
   "cell_type": "code",
   "execution_count": 13,
   "metadata": {},
   "outputs": [
    {
     "data": {
      "text/html": [
       "<div>\n",
       "<style scoped>\n",
       "    .dataframe tbody tr th:only-of-type {\n",
       "        vertical-align: middle;\n",
       "    }\n",
       "\n",
       "    .dataframe tbody tr th {\n",
       "        vertical-align: top;\n",
       "    }\n",
       "\n",
       "    .dataframe thead th {\n",
       "        text-align: right;\n",
       "    }\n",
       "</style>\n",
       "<table border=\"1\" class=\"dataframe\">\n",
       "  <thead>\n",
       "    <tr style=\"text-align: right;\">\n",
       "      <th>溢价率结构</th>\n",
       "      <th>溢价率10-50%</th>\n",
       "      <th>溢价率&lt;10%</th>\n",
       "    </tr>\n",
       "    <tr>\n",
       "      <th>月</th>\n",
       "      <th></th>\n",
       "      <th></th>\n",
       "    </tr>\n",
       "  </thead>\n",
       "  <tbody>\n",
       "    <tr>\n",
       "      <th>1月</th>\n",
       "      <td>3</td>\n",
       "      <td>4</td>\n",
       "    </tr>\n",
       "  </tbody>\n",
       "</table>\n",
       "</div>"
      ],
      "text/plain": [
       "溢价率结构  溢价率10-50%  溢价率<10%\n",
       "月                        \n",
       "1月             3        4"
      ]
     },
     "execution_count": 13,
     "metadata": {},
     "output_type": "execute_result"
    }
   ],
   "source": [
    "# 数据透视表\n",
    "top30_piove_month = top30.pivot_table(values='地块名称', columns='溢价率结构', aggfunc='count',index='月', fill_value=0)\n",
    "\n",
    "top30_piove_month.rename(index={i:'{}月'.format(i) for i in top30_piove_month.index}, inplace=True)\n",
    "top30_piove_month.head()"
   ]
  },
  {
   "cell_type": "markdown",
   "metadata": {},
   "source": [
    "#### 图3 TOP30-50 周更"
   ]
  },
  {
   "cell_type": "code",
   "execution_count": 14,
   "metadata": {},
   "outputs": [],
   "source": [
    "top35 = enterprise[enterprise['房企排名'] == 'TOP30-50']\n",
    "top35 = top35.fillna(0)"
   ]
  },
  {
   "cell_type": "code",
   "execution_count": 15,
   "metadata": {},
   "outputs": [
    {
     "data": {
      "text/html": [
       "<div>\n",
       "<style scoped>\n",
       "    .dataframe tbody tr th:only-of-type {\n",
       "        vertical-align: middle;\n",
       "    }\n",
       "\n",
       "    .dataframe tbody tr th {\n",
       "        vertical-align: top;\n",
       "    }\n",
       "\n",
       "    .dataframe thead th {\n",
       "        text-align: right;\n",
       "    }\n",
       "</style>\n",
       "<table border=\"1\" class=\"dataframe\">\n",
       "  <thead>\n",
       "    <tr style=\"text-align: right;\">\n",
       "      <th>溢价率结构</th>\n",
       "      <th>溢价率10-50%</th>\n",
       "    </tr>\n",
       "    <tr>\n",
       "      <th>周</th>\n",
       "      <th></th>\n",
       "    </tr>\n",
       "  </thead>\n",
       "  <tbody>\n",
       "    <tr>\n",
       "      <th>1</th>\n",
       "      <td>2</td>\n",
       "    </tr>\n",
       "  </tbody>\n",
       "</table>\n",
       "</div>"
      ],
      "text/plain": [
       "溢价率结构  溢价率10-50%\n",
       "周               \n",
       "1              2"
      ]
     },
     "execution_count": 15,
     "metadata": {},
     "output_type": "execute_result"
    }
   ],
   "source": [
    "# 数据透视表\n",
    "top35_piove_week = top35.pivot_table(values='地块名称', columns='溢价率结构', aggfunc='count',index='周', fill_value=0)\n",
    "\n",
    "top35_piove_week.head()"
   ]
  },
  {
   "cell_type": "markdown",
   "metadata": {},
   "source": [
    "#### 图5 TOP30-50 月更"
   ]
  },
  {
   "cell_type": "code",
   "execution_count": 16,
   "metadata": {},
   "outputs": [
    {
     "data": {
      "text/html": [
       "<div>\n",
       "<style scoped>\n",
       "    .dataframe tbody tr th:only-of-type {\n",
       "        vertical-align: middle;\n",
       "    }\n",
       "\n",
       "    .dataframe tbody tr th {\n",
       "        vertical-align: top;\n",
       "    }\n",
       "\n",
       "    .dataframe thead th {\n",
       "        text-align: right;\n",
       "    }\n",
       "</style>\n",
       "<table border=\"1\" class=\"dataframe\">\n",
       "  <thead>\n",
       "    <tr style=\"text-align: right;\">\n",
       "      <th>溢价率结构</th>\n",
       "      <th>溢价率10-50%</th>\n",
       "    </tr>\n",
       "    <tr>\n",
       "      <th>月</th>\n",
       "      <th></th>\n",
       "    </tr>\n",
       "  </thead>\n",
       "  <tbody>\n",
       "    <tr>\n",
       "      <th>1月</th>\n",
       "      <td>2</td>\n",
       "    </tr>\n",
       "  </tbody>\n",
       "</table>\n",
       "</div>"
      ],
      "text/plain": [
       "溢价率结构  溢价率10-50%\n",
       "月               \n",
       "1月             2"
      ]
     },
     "execution_count": 16,
     "metadata": {},
     "output_type": "execute_result"
    }
   ],
   "source": [
    "# 数据透视表\n",
    "top35_piove_month = top35.pivot_table(values='地块名称', columns='溢价率结构', aggfunc='count',index='月', fill_value=0)\n",
    "top35_piove_month.rename(index={i:'{}月'.format(i) for i in top35_piove_month.index}, inplace=True)\n",
    "\n",
    "top35_piove_month.head()"
   ]
  },
  {
   "cell_type": "code",
   "execution_count": null,
   "metadata": {},
   "outputs": [],
   "source": []
  },
  {
   "cell_type": "code",
   "execution_count": 49,
   "metadata": {},
   "outputs": [
    {
     "data": {
      "text/html": [
       "<div>\n",
       "<style scoped>\n",
       "    .dataframe tbody tr th:only-of-type {\n",
       "        vertical-align: middle;\n",
       "    }\n",
       "\n",
       "    .dataframe tbody tr th {\n",
       "        vertical-align: top;\n",
       "    }\n",
       "\n",
       "    .dataframe thead th {\n",
       "        text-align: right;\n",
       "    }\n",
       "</style>\n",
       "<table border=\"1\" class=\"dataframe\">\n",
       "  <thead>\n",
       "    <tr style=\"text-align: right;\">\n",
       "      <th>溢价率分类</th>\n",
       "      <th>底价</th>\n",
       "      <th>流拍</th>\n",
       "      <th>溢价</th>\n",
       "      <th>高溢价</th>\n",
       "      <th>总计</th>\n",
       "      <th>总计流拍</th>\n",
       "    </tr>\n",
       "    <tr>\n",
       "      <th>月</th>\n",
       "      <th></th>\n",
       "      <th></th>\n",
       "      <th></th>\n",
       "      <th></th>\n",
       "      <th></th>\n",
       "      <th></th>\n",
       "    </tr>\n",
       "  </thead>\n",
       "  <tbody>\n",
       "    <tr>\n",
       "      <th>1月</th>\n",
       "      <td>0.5417</td>\n",
       "      <td>0.0</td>\n",
       "      <td>0.4167</td>\n",
       "      <td>0.0417</td>\n",
       "      <td>24.0</td>\n",
       "      <td>24.0</td>\n",
       "    </tr>\n",
       "  </tbody>\n",
       "</table>\n",
       "</div>"
      ],
      "text/plain": [
       "溢价率分类      底价   流拍      溢价     高溢价    总计  总计流拍\n",
       "月                                             \n",
       "1月     0.5417  0.0  0.4167  0.0417  24.0  24.0"
      ]
     },
     "execution_count": 49,
     "metadata": {},
     "output_type": "execute_result"
    }
   ],
   "source": [
    "yijia101 = yijia101.astype(float)\n",
    "yijia101.to_excel(\"PPT2_2020_101城溢价结构.xlsx\")\n",
    "yijia101"
   ]
  },
  {
   "cell_type": "markdown",
   "metadata": {},
   "source": [
    "### 第三张幻灯片"
   ]
  },
  {
   "cell_type": "code",
   "execution_count": 18,
   "metadata": {},
   "outputs": [
    {
     "data": {
      "text/html": [
       "<div>\n",
       "<style scoped>\n",
       "    .dataframe tbody tr th:only-of-type {\n",
       "        vertical-align: middle;\n",
       "    }\n",
       "\n",
       "    .dataframe tbody tr th {\n",
       "        vertical-align: top;\n",
       "    }\n",
       "\n",
       "    .dataframe thead th {\n",
       "        text-align: right;\n",
       "    }\n",
       "</style>\n",
       "<table border=\"1\" class=\"dataframe\">\n",
       "  <thead>\n",
       "    <tr style=\"text-align: right;\">\n",
       "      <th>溢价率分类</th>\n",
       "      <th>底价</th>\n",
       "      <th>溢价</th>\n",
       "      <th>高溢价</th>\n",
       "    </tr>\n",
       "    <tr>\n",
       "      <th>月</th>\n",
       "      <th></th>\n",
       "      <th></th>\n",
       "      <th></th>\n",
       "    </tr>\n",
       "  </thead>\n",
       "  <tbody>\n",
       "    <tr>\n",
       "      <th>1</th>\n",
       "      <td>13</td>\n",
       "      <td>10</td>\n",
       "      <td>1</td>\n",
       "    </tr>\n",
       "  </tbody>\n",
       "</table>\n",
       "</div>"
      ],
      "text/plain": [
       "溢价率分类  底价  溢价  高溢价\n",
       "月                 \n",
       "1      13  10    1"
      ]
     },
     "metadata": {},
     "output_type": "display_data"
    },
    {
     "data": {
      "text/html": [
       "<div>\n",
       "<style scoped>\n",
       "    .dataframe tbody tr th:only-of-type {\n",
       "        vertical-align: middle;\n",
       "    }\n",
       "\n",
       "    .dataframe tbody tr th {\n",
       "        vertical-align: top;\n",
       "    }\n",
       "\n",
       "    .dataframe thead th {\n",
       "        text-align: right;\n",
       "    }\n",
       "</style>\n",
       "<table border=\"1\" class=\"dataframe\">\n",
       "  <thead>\n",
       "    <tr style=\"text-align: right;\">\n",
       "      <th>溢价率分类</th>\n",
       "      <th>底价</th>\n",
       "      <th>溢价</th>\n",
       "      <th>高溢价</th>\n",
       "    </tr>\n",
       "    <tr>\n",
       "      <th>周</th>\n",
       "      <th></th>\n",
       "      <th></th>\n",
       "      <th></th>\n",
       "    </tr>\n",
       "  </thead>\n",
       "  <tbody>\n",
       "    <tr>\n",
       "      <th>1</th>\n",
       "      <td>13</td>\n",
       "      <td>10</td>\n",
       "      <td>1</td>\n",
       "    </tr>\n",
       "  </tbody>\n",
       "</table>\n",
       "</div>"
      ],
      "text/plain": [
       "溢价率分类  底价  溢价  高溢价\n",
       "周                 \n",
       "1      13  10    1"
      ]
     },
     "metadata": {},
     "output_type": "display_data"
    }
   ],
   "source": [
    "# 按照月\n",
    "deal_liupai_yue = deal_liupai.pivot_table(index='月', columns='溢价率分类', aggfunc='count', values='地块名称', fill_value=0)\n",
    "display(deal_liupai_yue.tail(2))\n",
    "\n",
    "# 按照周\n",
    "deal_liupai_week = deal_liupai.pivot_table(index='周', columns='溢价率分类', aggfunc='count', values='地块名称', fill_value=0)\n",
    "display(deal_liupai_week.tail(2))"
   ]
  },
  {
   "cell_type": "code",
   "execution_count": 19,
   "metadata": {},
   "outputs": [],
   "source": [
    "# 保存数据\n",
    "deal_liupai_yue.to_excel('PPT3_2020_101城成交月更.xlsx')\n",
    "deal_liupai_week.to_excel('PPT3_2020_101城成交周更.xlsx')"
   ]
  },
  {
   "cell_type": "markdown",
   "metadata": {},
   "source": [
    "#### TOP30 周更"
   ]
  },
  {
   "cell_type": "code",
   "execution_count": 20,
   "metadata": {},
   "outputs": [
    {
     "data": {
      "text/html": [
       "<div>\n",
       "<style scoped>\n",
       "    .dataframe tbody tr th:only-of-type {\n",
       "        vertical-align: middle;\n",
       "    }\n",
       "\n",
       "    .dataframe tbody tr th {\n",
       "        vertical-align: top;\n",
       "    }\n",
       "\n",
       "    .dataframe thead th {\n",
       "        text-align: right;\n",
       "    }\n",
       "</style>\n",
       "<table border=\"1\" class=\"dataframe\">\n",
       "  <thead>\n",
       "    <tr style=\"text-align: right;\">\n",
       "      <th>溢价率结构</th>\n",
       "      <th>溢价率10-50%</th>\n",
       "      <th>溢价率&lt;10%</th>\n",
       "    </tr>\n",
       "    <tr>\n",
       "      <th>周</th>\n",
       "      <th></th>\n",
       "      <th></th>\n",
       "    </tr>\n",
       "  </thead>\n",
       "  <tbody>\n",
       "    <tr>\n",
       "      <th>1</th>\n",
       "      <td>3</td>\n",
       "      <td>4</td>\n",
       "    </tr>\n",
       "  </tbody>\n",
       "</table>\n",
       "</div>"
      ],
      "text/plain": [
       "溢价率结构  溢价率10-50%  溢价率<10%\n",
       "周                        \n",
       "1              3        4"
      ]
     },
     "execution_count": 20,
     "metadata": {},
     "output_type": "execute_result"
    }
   ],
   "source": [
    "top30_piove_week.to_excel(\"PPT4_2020_TOP30_周更.xlsx\")\n",
    "top30_piove_week.head(1)"
   ]
  },
  {
   "cell_type": "markdown",
   "metadata": {},
   "source": [
    "#### TOP30   月更"
   ]
  },
  {
   "cell_type": "code",
   "execution_count": null,
   "metadata": {},
   "outputs": [],
   "source": [
    "# top30_piove_month.tail(7)"
   ]
  },
  {
   "cell_type": "code",
   "execution_count": 21,
   "metadata": {},
   "outputs": [],
   "source": [
    "top30_piove_month\n",
    "top30_piove_month.to_excel(\"PPT4_2020_TOP30_月更.xlsx\")"
   ]
  },
  {
   "cell_type": "markdown",
   "metadata": {},
   "source": [
    "#### TOP30-50   周更"
   ]
  },
  {
   "cell_type": "code",
   "execution_count": 22,
   "metadata": {},
   "outputs": [
    {
     "data": {
      "text/html": [
       "<div>\n",
       "<style scoped>\n",
       "    .dataframe tbody tr th:only-of-type {\n",
       "        vertical-align: middle;\n",
       "    }\n",
       "\n",
       "    .dataframe tbody tr th {\n",
       "        vertical-align: top;\n",
       "    }\n",
       "\n",
       "    .dataframe thead th {\n",
       "        text-align: right;\n",
       "    }\n",
       "</style>\n",
       "<table border=\"1\" class=\"dataframe\">\n",
       "  <thead>\n",
       "    <tr style=\"text-align: right;\">\n",
       "      <th>溢价率结构</th>\n",
       "      <th>溢价率10-50%</th>\n",
       "    </tr>\n",
       "    <tr>\n",
       "      <th>周</th>\n",
       "      <th></th>\n",
       "    </tr>\n",
       "  </thead>\n",
       "  <tbody>\n",
       "    <tr>\n",
       "      <th>1</th>\n",
       "      <td>2</td>\n",
       "    </tr>\n",
       "  </tbody>\n",
       "</table>\n",
       "</div>"
      ],
      "text/plain": [
       "溢价率结构  溢价率10-50%\n",
       "周               \n",
       "1              2"
      ]
     },
     "execution_count": 22,
     "metadata": {},
     "output_type": "execute_result"
    }
   ],
   "source": [
    "top35_piove_week.to_excel(\"PPT5_2020_TOP50_周更.xlsx\")\n",
    "top35_piove_week.head(1)"
   ]
  },
  {
   "cell_type": "markdown",
   "metadata": {},
   "source": [
    "#### TOP30-50   月更"
   ]
  },
  {
   "cell_type": "code",
   "execution_count": 23,
   "metadata": {},
   "outputs": [
    {
     "data": {
      "text/html": [
       "<div>\n",
       "<style scoped>\n",
       "    .dataframe tbody tr th:only-of-type {\n",
       "        vertical-align: middle;\n",
       "    }\n",
       "\n",
       "    .dataframe tbody tr th {\n",
       "        vertical-align: top;\n",
       "    }\n",
       "\n",
       "    .dataframe thead th {\n",
       "        text-align: right;\n",
       "    }\n",
       "</style>\n",
       "<table border=\"1\" class=\"dataframe\">\n",
       "  <thead>\n",
       "    <tr style=\"text-align: right;\">\n",
       "      <th>溢价率结构</th>\n",
       "      <th>溢价率10-50%</th>\n",
       "    </tr>\n",
       "    <tr>\n",
       "      <th>月</th>\n",
       "      <th></th>\n",
       "    </tr>\n",
       "  </thead>\n",
       "  <tbody>\n",
       "    <tr>\n",
       "      <th>1月</th>\n",
       "      <td>2</td>\n",
       "    </tr>\n",
       "  </tbody>\n",
       "</table>\n",
       "</div>"
      ],
      "text/plain": [
       "溢价率结构  溢价率10-50%\n",
       "月               \n",
       "1月             2"
      ]
     },
     "execution_count": 23,
     "metadata": {},
     "output_type": "execute_result"
    }
   ],
   "source": [
    "top35_piove_month.to_excel(\"PPT5_2020_TOP50_月更.xlsx\")\n",
    "top35_piove_month.head(1)"
   ]
  },
  {
   "cell_type": "code",
   "execution_count": null,
   "metadata": {},
   "outputs": [],
   "source": []
  },
  {
   "cell_type": "code",
   "execution_count": null,
   "metadata": {},
   "outputs": [],
   "source": []
  },
  {
   "cell_type": "code",
   "execution_count": null,
   "metadata": {},
   "outputs": [],
   "source": []
  }
 ],
 "metadata": {
  "kernelspec": {
   "display_name": "Python 3",
   "language": "python",
   "name": "python3"
  },
  "toc": {
   "base_numbering": 1,
   "nav_menu": {},
   "number_sections": true,
   "sideBar": true,
   "skip_h1_title": false,
   "title_cell": "Table of Contents",
   "title_sidebar": "Contents",
   "toc_cell": false,
   "toc_position": {
    "height": "calc(100% - 180px)",
    "left": "10px",
    "top": "150px",
    "width": "273px"
   },
   "toc_section_display": true,
   "toc_window_display": true
  },
  "varInspector": {
   "cols": {
    "lenName": 16,
    "lenType": 16,
    "lenVar": 40
   },
   "kernels_config": {
    "python": {
     "delete_cmd_postfix": "",
     "delete_cmd_prefix": "del ",
     "library": "var_list.py",
     "varRefreshCmd": "print(var_dic_list())"
    },
    "r": {
     "delete_cmd_postfix": ") ",
     "delete_cmd_prefix": "rm(",
     "library": "var_list.r",
     "varRefreshCmd": "cat(var_dic_list()) "
    }
   },
   "types_to_exclude": [
    "module",
    "function",
    "builtin_function_or_method",
    "instance",
    "_Feature"
   ],
   "window_display": false
  }
 },
 "nbformat": 4,
 "nbformat_minor": 2
}
