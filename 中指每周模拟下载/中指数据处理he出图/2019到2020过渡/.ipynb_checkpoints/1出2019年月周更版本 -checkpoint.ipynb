{
 "cells": [
  {
   "cell_type": "markdown",
   "metadata": {},
   "source": [
    "## 表格输出为图片"
   ]
  },
  {
   "cell_type": "code",
   "execution_count": 1,
   "metadata": {},
   "outputs": [
    {
     "data": {
      "text/plain": [
       "'C:\\\\Users\\\\12602\\\\Anaconda3\\\\中指每周模拟下载\\\\中指数据处理he出图\\\\2019到2020过渡'"
      ]
     },
     "execution_count": 1,
     "metadata": {},
     "output_type": "execute_result"
    }
   ],
   "source": [
    "import os\n",
    "os.getcwd()"
   ]
  },
  {
   "cell_type": "code",
   "execution_count": null,
   "metadata": {},
   "outputs": [],
   "source": []
  },
  {
   "cell_type": "markdown",
   "metadata": {},
   "source": [
    "## 整理所需数据"
   ]
  },
  {
   "cell_type": "code",
   "execution_count": null,
   "metadata": {},
   "outputs": [],
   "source": []
  },
  {
   "cell_type": "code",
   "execution_count": 2,
   "metadata": {},
   "outputs": [],
   "source": [
    "import os\n",
    "import pyecharts\n",
    "import datetime\n",
    "import pandas as pd\n",
    "import numpy as np\n",
    "\n",
    "\n",
    "# 全局  当前周(实际为上周) / 当前月 / 上一个月\n",
    "currentWeek = 1    # 本周\n",
    "currentMonth = 1   # 这个月\n",
    "lastMonth = 12     # 上个月"
   ]
  },
  {
   "cell_type": "code",
   "execution_count": 3,
   "metadata": {
    "code_folding": [
     0
    ]
   },
   "outputs": [],
   "source": [
    "# 城市能级 city_map\n",
    "\n",
    "city_map = {\"上海\": \"一二线\",\n",
    "\"北京\": \"一二线\",\n",
    "\"重庆\": \"一二线\",\n",
    "\"广州\": \"一二线\",\n",
    "\"深圳\": \"一二线\",\n",
    "\"天津\": \"一二线\",\n",
    "\"成都\": \"一二线\",\n",
    "\"杭州\": \"一二线\",\n",
    "\"武汉\": \"一二线\",\n",
    "\"苏州\": \"一二线\",\n",
    "\"南京\": \"一二线\",\n",
    "\"青岛\": \"一二线\",\n",
    "\"郑州\": \"一二线\",\n",
    "\"宁波\": \"一二线\",\n",
    "\"佛山\": \"一二线\",\n",
    "\"西安\": \"一二线\",\n",
    "\"长沙\": \"一二线\",\n",
    "\"无锡\": \"三四线\",\n",
    "\"温州\": \"三四线\",\n",
    "\"东莞\": \"三四线\",\n",
    "\"福州\": \"一二线\",\n",
    "\"济南\": \"一二线\",\n",
    "\"厦门\": \"一二线\",\n",
    "\"南通\": \"三四线\",\n",
    "\"沈阳\": \"一二线\",\n",
    "\"合肥\": \"一二线\",\n",
    "\"石家庄\": \"一二线\",\n",
    "\"哈尔滨\": \"一二线\",\n",
    "\"昆明\": \"一二线\",\n",
    "\"常州\": \"三四线\",\n",
    "\"嘉兴\": \"三四线\",\n",
    "\"泉州\": \"三四线\",\n",
    "\"烟台\": \"三四线\",\n",
    "\"台州\": \"三四线\",\n",
    "\"唐山\": \"三四线\",\n",
    "\"潍坊\": \"三四线\",\n",
    "\"绍兴\": \"三四线\",\n",
    "\"金华\": \"三四线\",\n",
    "\"南昌\": \"一二线\",\n",
    "\"长春\": \"一二线\",\n",
    "\"惠州\": \"三四线\",\n",
    "\"大连\": \"一二线\",\n",
    "\"南宁\": \"一二线\",\n",
    "\"临沂\": \"三四线\",\n",
    "\"徐州\": \"三四线\",\n",
    "\"中山\": \"三四线\",\n",
    "\"廊坊\": \"三四线\",\n",
    "\"珠海\": \"三四线\",\n",
    "\"扬州\": \"三四线\",\n",
    "\"保定\": \"三四线\",\n",
    "\"泰州\": \"三四线\",\n",
    "\"济宁\": \"三四线\",\n",
    "\"湖州\": \"三四线\",\n",
    "\"洛阳\": \"三四线\",\n",
    "\"威海\": \"三四线\",\n",
    "\"淄博\": \"三四线\",\n",
    "\"镇江\": \"三四线\",\n",
    "\"盐城\": \"三四线\",\n",
    "\"三亚\": \"三四线\",\n",
    "\"沧州\": \"三四线\",\n",
    "\"邯郸\": \"三四线\",\n",
    "\"贵阳\": \"一二线\",\n",
    "\"赣州\": \"三四线\",\n",
    "\"太原\": \"一二线\",\n",
    "\"漳州\": \"三四线\",\n",
    "\"呼和浩特\": \"一二线\",\n",
    "\"芜湖\": \"三四线\",\n",
    "\"兰州\": \"一二线\",\n",
    "\"株洲\": \"三四线\",\n",
    "\"江门\": \"三四线\",\n",
    "\"东营\": \"三四线\",\n",
    "\"泰安\": \"三四线\",\n",
    "\"阜阳\": \"三四线\",\n",
    "\"宜昌\": \"三四线\",\n",
    "\"南阳\": \"三四线\",\n",
    "\"衡阳\": \"三四线\",\n",
    "\"商丘\": \"三四线\",\n",
    "\"舟山\": \"三四线\",\n",
    "\"新乡\": \"三四线\",\n",
    "\"包头\": \"三四线\",\n",
    "\"上饶\": \"三四线\",\n",
    "\"菏泽\": \"三四线\",\n",
    "\"乌鲁木齐\": \"一二线\",\n",
    "\"驻马店\": \"三四线\",\n",
    "\"海口\": \"三四线\",\n",
    "\"淮安\": \"三四线\",\n",
    "\"信阳\": \"三四线\",\n",
    "\"襄阳\": \"三四线\",\n",
    "\"南充\": \"三四线\",\n",
    "\"连云港\": \"三四线\",\n",
    "\"岳阳\": \"三四线\",\n",
    "\"衢州\": \"三四线\",\n",
    "\"桂林\": \"三四线\",\n",
    "\"周口\": \"三四线\",\n",
    "\"安阳\": \"三四线\",\n",
    "\"九江\": \"三四线\",\n",
    "\"绵阳\": \"三四线\",\n",
    "\"德州\": \"三四线\",\n",
    "\"柳州\": \"三四线\",\n",
    "\"莆田\": \"三四线\",\n",
    "\"聊城\": \"三四线\",\n",
    "\"马鞍山\": \"三四线\",\n",
    "\"大庆\": \"三四线\",\n",
    "\"汕头\": \"三四线\",\n",
    "\"宜春\": \"三四线\",\n",
    "\"常德\": \"三四线\",\n",
    "\"宿迁\": \"三四线\",\n",
    "\"咸阳\": \"三四线\",\n",
    "\"黄冈\": \"三四线\",\n",
    "\"丽水\": \"三四线\",\n",
    "\"玉林\": \"三四线\",\n",
    "\"郴州\": \"三四线\",\n",
    "\"湛江\": \"三四线\",\n",
    "\"泸州\": \"三四线\",\n",
    "\"许昌\": \"三四线\",\n",
    "\"清远\": \"三四线\",\n",
    "\"蚌埠\": \"三四线\",\n",
    "\"安庆\": \"三四线\",\n",
    "\"茂名\": \"三四线\",\n",
    "\"荆州\": \"三四线\",\n",
    "\"秦皇岛\": \"三四线\",\n",
    "\"宿州\": \"三四线\",\n",
    "\"六安\": \"三四线\",\n",
    "\"鄂尔多斯\": \"三四线\",\n",
    "\"宝鸡\": \"三四线\",\n",
    "\"肇庆\": \"三四线\",\n",
    "\"滁州\": \"三四线\",\n",
    "\"达州\": \"三四线\",\n",
    "\"宜宾\": \"三四线\",\n",
    "\"龙岩\": \"三四线\",\n",
    "\"枣庄\": \"三四线\",\n",
    "\"邵阳\": \"三四线\",\n",
    "\"榆林\": \"三四线\",\n",
    "\"银川\": \"一二线\",\n",
    "\"鞍山\": \"三四线\",\n",
    "\"衡水\": \"三四线\",\n",
    "\"渭南\": \"三四线\",\n",
    "\"邢台\": \"三四线\",\n",
    "\"抚州\": \"三四线\",\n",
    "\"德阳\": \"三四线\",\n",
    "\"吉安\": \"三四线\",\n",
    "\"宣城\": \"三四线\",\n",
    "\"滨州\": \"三四线\",\n",
    "\"眉山\": \"三四线\",\n",
    "\"日照\": \"三四线\",\n",
    "\"亳州\": \"三四线\",\n",
    "\"承德\": \"三四线\",\n",
    "\"湘潭\": \"三四线\",\n",
    "\"三明\": \"三四线\",\n",
    "\"平顶山\": \"三四线\",\n",
    "\"乐山\": \"三四线\",\n",
    "\"濮阳\": \"三四线\",\n",
    "\"宁德\": \"三四线\",\n",
    "\"内江\": \"三四线\",\n",
    "\"锦州\": \"三四线\",\n",
    "\"广安\": \"三四线\",\n",
    "\"揭阳\": \"三四线\",\n",
    "\"资阳\": \"三四线\",\n",
    "\"营口\": \"三四线\",\n",
    "\"遂宁\": \"三四线\",\n",
    "\"长治\": \"三四线\",\n",
    "\"焦作\": \"三四线\",\n",
    "\"梅州\": \"三四线\",\n",
    "\"盘锦\": \"三四线\",\n",
    "\"张家口\": \"三四线\",\n",
    "\"益阳\": \"三四线\",\n",
    "\"西宁\": \"一二线\",\n",
    "\"怀化\": \"三四线\",\n",
    "\"临汾\": \"三四线\",\n",
    "\"运城\": \"三四线\",\n",
    "\"淮南\": \"三四线\",\n",
    "\"自贡\": \"三四线\",\n",
    "\"南平\": \"三四线\",\n",
    "\"韶关\": \"三四线\",\n",
    "\"十堰\": \"三四线\",\n",
    "\"孝感\": \"三四线\",\n",
    "\"铜陵\": \"三四线\",\n",
    "\"永州\": \"三四线\",\n",
    "\"大同\": \"三四线\",\n",
    "\"黄石\": \"三四线\",\n",
    "\"晋城\": \"三四线\",\n",
    "\"钦州\": \"三四线\",\n",
    "\"攀枝花\": \"三四线\",\n",
    "\"牡丹江\": \"三四线\",\n",
    "\"景德镇\": \"三四线\",\n",
    "\"开封\": \"三四线\",\n",
    "\"绥化\": \"三四线\",\n",
    "\"延安\": \"三四线\",\n",
    "\"百色\": \"三四线\",\n",
    "\"汉中\": \"三四线\",\n",
    "\"丹东\": \"三四线\",\n",
    "\"阳江\": \"三四线\",\n",
    "\"娄底\": \"三四线\",\n",
    "\"黄山\": \"三四线\",\n",
    "\"新余\": \"三四线\",\n",
    "\"萍乡\": \"三四线\",\n",
    "\"本溪\": \"三四线\",\n",
    "\"咸宁\": \"三四线\",\n",
    "\"抚顺\": \"三四线\",\n",
    "\"巴中\": \"三四线\",\n",
    "\"荆门\": \"三四线\",\n",
    "\"河源\": \"三四线\",\n",
    "\"淮北\": \"三四线\",\n",
    "\"广元\": \"三四线\",\n",
    "\"漯河\": \"三四线\",\n",
    "\"吕梁\": \"三四线\",\n",
    "\"葫芦岛\": \"三四线\",\n",
    "\"六盘水\": \"三四线\",\n",
    "\"防城港\": \"三四线\",\n",
    "\"安康\": \"三四线\",\n",
    "\"辽阳\": \"三四线\",\n",
    "\"来宾\": \"三四线\",\n",
    "\"朝阳\": \"三四线\",\n",
    "\"鹰潭\": \"三四线\",\n",
    "\"三门峡\": \"三四线\",\n",
    "\"晋中\": \"三四线\",\n",
    "\"酒泉\": \"三四线\",\n",
    "\"汕尾\": \"三四线\",\n",
    "\"鹤壁\": \"三四线\",\n",
    "\"齐齐哈尔\": \"三四线\",\n",
    "\"贺州\": \"三四线\",\n",
    "\"随州\": \"三四线\",\n",
    "\"鄂州\": \"三四线\",\n",
    "\"雅安\": \"三四线\",\n",
    "\"潮州\": \"三四线\",\n",
    "\"嘉峪关\": \"三四线\",\n",
    "\"商洛\": \"三四线\",\n",
    "\"云浮\": \"三四线\",\n",
    "\"庆阳\": \"三四线\",\n",
    "\"莱芜\": \"三四线\",\n",
    "\"阳泉\": \"三四线\",\n",
    "\"铁岭\": \"三四线\",\n",
    "\"佳木斯\": \"三四线\",\n",
    "\"平凉\": \"三四线\",\n",
    "\"白银\": \"三四线\",\n",
    "\"阜新\": \"三四线\",\n",
    "\"河池\": \"三四线\",\n",
    "\"武威\": \"三四线\",\n",
    "\"池州\": \"三四线\",\n",
    "\"黑河\": \"三四线\",\n",
    "\"张家界\": \"三四线\",\n",
    "\"朔州\": \"三四线\",\n",
    "\"鸡西\": \"三四线\",\n",
    "\"铜川\": \"三四线\",\n",
    "\"张掖\": \"三四线\",\n",
    "\"乌兰察布\": \"三四线\",\n",
    "\"伊春\": \"三四线\",\n",
    "\"双鸭山\": \"三四线\",\n",
    "\"梧州\": \"三四线\",\n",
    "\"鹤岗\": \"三四线\"}"
   ]
  },
  {
   "cell_type": "code",
   "execution_count": 4,
   "metadata": {
    "code_folding": []
   },
   "outputs": [],
   "source": [
    "# 底稿城市\n",
    "city_digao = [\"北京\",\"上海\",\"广州\",\"深圳\",\"南京\",\"苏州\",\"厦门\",\"合肥\",\"天津\",\"武汉\",\"杭州\",\"福州\",\"济南\",\n",
    "              \"南昌\",\"无锡\",\"宁波\",\"成都\",\"郑州\",\"南宁\",\"长沙\",\"西安\",\"重庆\",\"青岛\",\"沈阳\",\"大连\",\"常州\",\n",
    "              \"徐州\",\"南通\",\"嘉兴\",\"绍兴\",\"温州\",\"镇江\",\"扬州\",\"泉州\",\"漳州\",\"佛山\",\"东莞\",\"中山\",\"惠州\",\n",
    "              \"珠海\",\"安庆\",\"株洲\",\"阜阳\",\"蚌埠\",\"常德\",\"湘潭\",\"芜湖\",\"岳阳\",\"荆门\",\"荆州\",\"襄阳\",\"宜昌\",\n",
    "              \"抚州\",\"赣州\",\"吉安\",\"九江\",\"洛阳\",\"信阳\",\"新乡\",\"南阳\",\"淄博\",\"临沂\",\"兰州\",\"昆明\",\"宝鸡\",\n",
    "              \"德阳\",\"贵阳\",\"哈尔滨\",\"衡阳\",\"呼和浩特\",\"湖州\",\"淮安\",\"济宁\",\"江门\",\"金华\",\"廊坊\",\"丽水\",\n",
    "              \"连云港\",\"龙岩\",\"泸州\",\"马鞍山\",\"南平\",\"内江\",\"宁德\",\"莆田\",\"衢州\",\"三明\",\"汕头\",\"石家庄\",\n",
    "              \"台州\",\"太原\",\"泰州\",\"潍坊\",\"乌鲁木齐\",\"烟台\",\"盐城\",\"银川\",\"湛江\",\"长春\",\"肇庆\",\"茂名\"]\n",
    "city_digao = pd.DataFrame(city_digao, columns=['城市'])"
   ]
  },
  {
   "cell_type": "code",
   "execution_count": 5,
   "metadata": {
    "code_folding": []
   },
   "outputs": [],
   "source": [
    "# 读取数据\n",
    "\n",
    "deal = pd.read_excel('../数据整理/中指2019年数据.xlsx', sheet_name='土地成交明细')\n",
    "# deal = deal[deal['周'] != currentWeek+1]\n",
    "liupai = pd.read_excel('../数据整理/中指2019年数据.xlsx', sheet_name='土地流拍')\n",
    "# liupai = liupai[liupai['周'] != currentWeek+1]\n",
    "\n",
    "deal.replace('--', 0, inplace=True)\n",
    "liupai.replace('--', 0, inplace=True)\n",
    "\n",
    "deal.loc[deal[deal['起始价(万元)']==0].index, '起始价(万元)'] = deal[deal['起始价(万元)']==0]['成交价(万元)']\n",
    "deal.loc[deal[deal['成交价(万元)']==0].index, '成交价(万元)'] = deal[deal['成交价(万元)']==0]['起始价(万元)']"
   ]
  },
  {
   "cell_type": "code",
   "execution_count": 6,
   "metadata": {},
   "outputs": [],
   "source": [
    "# 处理流拍数据\n",
    "liupai['成交价(万元)'] = 0\n",
    "liupai['成交楼面价(元/㎡)'] = 0\n",
    "liupai['溢价率'] = '流拍'\n",
    "liupai['受让单位'] = ''\n",
    "liupai['土地星级'] = '0星'\n",
    "liupai['溢价率分类'] = '流拍'\n",
    "\n",
    "\n",
    "# 处理成交数据\n",
    "deal['溢价率分类'] = deal['溢价率'].map(lambda x: '底价' if x<=10 else '高溢价' if x>=50 else '溢价' )\n",
    "\n",
    "deal_liupai = pd.concat((deal, liupai), ignore_index=True, sort=False)\n",
    "deal_liupai['日'] = deal_liupai['截止日期'].map(lambda x: str(x.split(\"-\")[2]).lstrip('0'))\n",
    "deal_liupai['城市能级'] = deal_liupai['城市'].map(lambda x: city_map[x])\n",
    "deal_liupai = deal_liupai[deal_liupai['年']==2019]"
   ]
  },
  {
   "cell_type": "markdown",
   "metadata": {},
   "source": [
    "### 101成每月结构"
   ]
  },
  {
   "cell_type": "code",
   "execution_count": 12,
   "metadata": {},
   "outputs": [],
   "source": [
    "b = deal_liupai.pivot_table(values='地块名称', columns='溢价率分类', aggfunc='count',index='月')\n",
    "if '流拍' not in b.columns:\n",
    "    b['流拍'] = 0\n",
    "# b.dropna(axis=0,inplace=True)\n",
    "b.fillna(0, inplace=True)\n",
    "b = b[['底价', '流拍', '溢价', '高溢价']]\n",
    "# b.head()"
   ]
  },
  {
   "cell_type": "code",
   "execution_count": 13,
   "metadata": {},
   "outputs": [],
   "source": [
    "b.eval(' 总计 = 底价+溢价+高溢价', inplace=True)\n",
    "b.eval(' 总计流拍 = 底价+溢价+流拍+高溢价', inplace=True)\n",
    "\n",
    "b['底价'] = (b['底价'] / b['总计']).apply(lambda x: format(x, '.4f')) \n",
    "b['流拍'] = (b['流拍'] / b['总计流拍']).apply(lambda x: format(x, '.4f')) \n",
    "b['溢价'] = (b['溢价'] / b['总计']).apply(lambda x: format(x, '.4f')) \n",
    "b['高溢价'] = (b['高溢价'] / b['总计']).apply(lambda x: format(x, '.4f')) \n",
    "\n",
    "yijia101 = b.copy()\n",
    "yijia101.rename(index={i:'{}月'.format(i) for i in yijia101.index}, inplace=True)\n"
   ]
  },
  {
   "cell_type": "code",
   "execution_count": 11,
   "metadata": {},
   "outputs": [
    {
     "data": {
      "text/html": [
       "<div>\n",
       "<style scoped>\n",
       "    .dataframe tbody tr th:only-of-type {\n",
       "        vertical-align: middle;\n",
       "    }\n",
       "\n",
       "    .dataframe tbody tr th {\n",
       "        vertical-align: top;\n",
       "    }\n",
       "\n",
       "    .dataframe thead th {\n",
       "        text-align: right;\n",
       "    }\n",
       "</style>\n",
       "<table border=\"1\" class=\"dataframe\">\n",
       "  <thead>\n",
       "    <tr style=\"text-align: right;\">\n",
       "      <th>溢价率分类</th>\n",
       "      <th>底价</th>\n",
       "      <th>流拍</th>\n",
       "      <th>溢价</th>\n",
       "      <th>高溢价</th>\n",
       "      <th>总计</th>\n",
       "      <th>总计流拍</th>\n",
       "    </tr>\n",
       "    <tr>\n",
       "      <th>月</th>\n",
       "      <th></th>\n",
       "      <th></th>\n",
       "      <th></th>\n",
       "      <th></th>\n",
       "      <th></th>\n",
       "      <th></th>\n",
       "    </tr>\n",
       "  </thead>\n",
       "  <tbody>\n",
       "    <tr>\n",
       "      <th>1月</th>\n",
       "      <td>0.7354</td>\n",
       "      <td>0.0621</td>\n",
       "      <td>0.1858</td>\n",
       "      <td>0.0789</td>\n",
       "      <td>393.0</td>\n",
       "      <td>419.0</td>\n",
       "    </tr>\n",
       "    <tr>\n",
       "      <th>2月</th>\n",
       "      <td>0.7098</td>\n",
       "      <td>0.0468</td>\n",
       "      <td>0.2679</td>\n",
       "      <td>0.0223</td>\n",
       "      <td>224.0</td>\n",
       "      <td>235.0</td>\n",
       "    </tr>\n",
       "    <tr>\n",
       "      <th>3月</th>\n",
       "      <td>0.4981</td>\n",
       "      <td>0.0358</td>\n",
       "      <td>0.3717</td>\n",
       "      <td>0.1301</td>\n",
       "      <td>269.0</td>\n",
       "      <td>279.0</td>\n",
       "    </tr>\n",
       "    <tr>\n",
       "      <th>4月</th>\n",
       "      <td>0.5079</td>\n",
       "      <td>0.0281</td>\n",
       "      <td>0.3184</td>\n",
       "      <td>0.1737</td>\n",
       "      <td>380.0</td>\n",
       "      <td>391.0</td>\n",
       "    </tr>\n",
       "    <tr>\n",
       "      <th>5月</th>\n",
       "      <td>0.5432</td>\n",
       "      <td>0.0186</td>\n",
       "      <td>0.3179</td>\n",
       "      <td>0.1389</td>\n",
       "      <td>475.0</td>\n",
       "      <td>484.0</td>\n",
       "    </tr>\n",
       "    <tr>\n",
       "      <th>6月</th>\n",
       "      <td>0.5604</td>\n",
       "      <td>0.0501</td>\n",
       "      <td>0.2879</td>\n",
       "      <td>0.1516</td>\n",
       "      <td>455.0</td>\n",
       "      <td>479.0</td>\n",
       "    </tr>\n",
       "    <tr>\n",
       "      <th>7月</th>\n",
       "      <td>0.6469</td>\n",
       "      <td>0.0667</td>\n",
       "      <td>0.2551</td>\n",
       "      <td>0.0980</td>\n",
       "      <td>490.0</td>\n",
       "      <td>525.0</td>\n",
       "    </tr>\n",
       "    <tr>\n",
       "      <th>8月</th>\n",
       "      <td>0.7213</td>\n",
       "      <td>0.0543</td>\n",
       "      <td>0.2184</td>\n",
       "      <td>0.0603</td>\n",
       "      <td>348.0</td>\n",
       "      <td>368.0</td>\n",
       "    </tr>\n",
       "    <tr>\n",
       "      <th>9月</th>\n",
       "      <td>0.7668</td>\n",
       "      <td>0.0793</td>\n",
       "      <td>0.1870</td>\n",
       "      <td>0.0462</td>\n",
       "      <td>476.0</td>\n",
       "      <td>517.0</td>\n",
       "    </tr>\n",
       "    <tr>\n",
       "      <th>10月</th>\n",
       "      <td>0.7400</td>\n",
       "      <td>0.0762</td>\n",
       "      <td>0.1750</td>\n",
       "      <td>0.0850</td>\n",
       "      <td>400.0</td>\n",
       "      <td>433.0</td>\n",
       "    </tr>\n",
       "    <tr>\n",
       "      <th>11月</th>\n",
       "      <td>0.7663</td>\n",
       "      <td>0.1196</td>\n",
       "      <td>0.2011</td>\n",
       "      <td>0.0326</td>\n",
       "      <td>368.0</td>\n",
       "      <td>418.0</td>\n",
       "    </tr>\n",
       "    <tr>\n",
       "      <th>12月</th>\n",
       "      <td>0.7897</td>\n",
       "      <td>0.0952</td>\n",
       "      <td>0.1707</td>\n",
       "      <td>0.0397</td>\n",
       "      <td>580.0</td>\n",
       "      <td>641.0</td>\n",
       "    </tr>\n",
       "  </tbody>\n",
       "</table>\n",
       "</div>"
      ],
      "text/plain": [
       "溢价率分类      底价      流拍      溢价     高溢价     总计   总计流拍\n",
       "月                                                  \n",
       "1月     0.7354  0.0621  0.1858  0.0789  393.0  419.0\n",
       "2月     0.7098  0.0468  0.2679  0.0223  224.0  235.0\n",
       "3月     0.4981  0.0358  0.3717  0.1301  269.0  279.0\n",
       "4月     0.5079  0.0281  0.3184  0.1737  380.0  391.0\n",
       "5月     0.5432  0.0186  0.3179  0.1389  475.0  484.0\n",
       "6月     0.5604  0.0501  0.2879  0.1516  455.0  479.0\n",
       "7月     0.6469  0.0667  0.2551  0.0980  490.0  525.0\n",
       "8月     0.7213  0.0543  0.2184  0.0603  348.0  368.0\n",
       "9月     0.7668  0.0793  0.1870  0.0462  476.0  517.0\n",
       "10月    0.7400  0.0762  0.1750  0.0850  400.0  433.0\n",
       "11月    0.7663  0.1196  0.2011  0.0326  368.0  418.0\n",
       "12月    0.7897  0.0952  0.1707  0.0397  580.0  641.0"
      ]
     },
     "execution_count": 11,
     "metadata": {},
     "output_type": "execute_result"
    }
   ],
   "source": [
    "yijia101 = yijia101.astype(float)\n",
    "yijia101.to_excel(\"PPT2_2019_101城溢价结构.xlsx\")\n",
    "yijia101.head()"
   ]
  },
  {
   "cell_type": "code",
   "execution_count": null,
   "metadata": {},
   "outputs": [],
   "source": []
  },
  {
   "cell_type": "markdown",
   "metadata": {},
   "source": [
    "## 房企"
   ]
  },
  {
   "cell_type": "code",
   "execution_count": 10,
   "metadata": {},
   "outputs": [],
   "source": [
    "enterprise = pd.read_excel('../数据整理/中指2019年数据.xlsx', sheet_name='房企拿地')\n",
    "\n",
    "enterprise.fillna(0, inplace=True)\n",
    "enterprise = enterprise[['房企', '地块名称', '城市', '规划用途', '占地面积(万㎡)',\n",
    "           '规划建筑面积(万㎡)', '总成交金额(亿元)', '平均楼面价(元/㎡)',\n",
    "           '平均溢价率(%)', '土地权益(%)','权益金额(亿元)', '权益规划建筑面积(万㎡)', \n",
    "            '拿地时间', '城市能级', '年', '月', '周', '房企排名']]\n",
    "enterprise['城市能级'] = enterprise['城市'].map(lambda x: city_map.get(x, '三四线'))\n",
    "\n",
    "\n",
    "enterprise['日'] = enterprise['拿地时间'].map(lambda x: x.split(\"-\")[2].lstrip('0'))\n",
    "enterprise['溢价率结构'] = enterprise['平均溢价率(%)'].map(lambda x: '溢价率<10%' if x<=10 else '溢价率>50%' if x>=50 else '溢价率10-50%'  )\n"
   ]
  },
  {
   "cell_type": "code",
   "execution_count": 11,
   "metadata": {},
   "outputs": [
    {
     "data": {
      "text/plain": [
       "{2019, 2020}"
      ]
     },
     "execution_count": 11,
     "metadata": {},
     "output_type": "execute_result"
    }
   ],
   "source": [
    "set(enterprise['年'].tolist())"
   ]
  },
  {
   "cell_type": "markdown",
   "metadata": {},
   "source": [
    "### 图2 TOP30周更"
   ]
  },
  {
   "cell_type": "code",
   "execution_count": 12,
   "metadata": {},
   "outputs": [
    {
     "data": {
      "text/plain": [
       "(35, 20)"
      ]
     },
     "execution_count": 12,
     "metadata": {},
     "output_type": "execute_result"
    }
   ],
   "source": [
    "top30 = enterprise[enterprise['房企排名'] == 'TOP30']\n",
    "top30 = top30.fillna(0)\n",
    "top30 = top30.drop(top30[(top30['月']==1) & (top30['年']==2019)].index).query('周==1')\n",
    "top30.shape"
   ]
  },
  {
   "cell_type": "code",
   "execution_count": 13,
   "metadata": {},
   "outputs": [
    {
     "data": {
      "text/html": [
       "<div>\n",
       "<style scoped>\n",
       "    .dataframe tbody tr th:only-of-type {\n",
       "        vertical-align: middle;\n",
       "    }\n",
       "\n",
       "    .dataframe tbody tr th {\n",
       "        vertical-align: top;\n",
       "    }\n",
       "\n",
       "    .dataframe thead th {\n",
       "        text-align: right;\n",
       "    }\n",
       "</style>\n",
       "<table border=\"1\" class=\"dataframe\">\n",
       "  <thead>\n",
       "    <tr style=\"text-align: right;\">\n",
       "      <th>溢价率结构</th>\n",
       "      <th>溢价率10-50%</th>\n",
       "      <th>溢价率&lt;10%</th>\n",
       "      <th>溢价率&gt;50%</th>\n",
       "    </tr>\n",
       "    <tr>\n",
       "      <th>周</th>\n",
       "      <th></th>\n",
       "      <th></th>\n",
       "      <th></th>\n",
       "    </tr>\n",
       "  </thead>\n",
       "  <tbody>\n",
       "    <tr>\n",
       "      <th>1</th>\n",
       "      <td>12</td>\n",
       "      <td>22</td>\n",
       "      <td>1</td>\n",
       "    </tr>\n",
       "  </tbody>\n",
       "</table>\n",
       "</div>"
      ],
      "text/plain": [
       "溢价率结构  溢价率10-50%  溢价率<10%  溢价率>50%\n",
       "周                                 \n",
       "1             12       22        1"
      ]
     },
     "execution_count": 13,
     "metadata": {},
     "output_type": "execute_result"
    }
   ],
   "source": [
    "# 数据透视表\n",
    "top30_piove_week = top30.pivot_table(values='地块名称', columns='溢价率结构', aggfunc='count',index='周', fill_value=0)\n",
    "\n",
    "top30_piove_week.head()"
   ]
  },
  {
   "cell_type": "code",
   "execution_count": 14,
   "metadata": {},
   "outputs": [],
   "source": [
    "# 保存数据\n",
    "top30_piove_week.to_excel(\"PPT4_2020_TOP30_周更.xlsx\")"
   ]
  },
  {
   "cell_type": "code",
   "execution_count": null,
   "metadata": {},
   "outputs": [],
   "source": []
  },
  {
   "cell_type": "markdown",
   "metadata": {},
   "source": [
    "### 图4 TOP30 月更"
   ]
  },
  {
   "cell_type": "code",
   "execution_count": 15,
   "metadata": {},
   "outputs": [
    {
     "data": {
      "text/html": [
       "<div>\n",
       "<style scoped>\n",
       "    .dataframe tbody tr th:only-of-type {\n",
       "        vertical-align: middle;\n",
       "    }\n",
       "\n",
       "    .dataframe tbody tr th {\n",
       "        vertical-align: top;\n",
       "    }\n",
       "\n",
       "    .dataframe thead th {\n",
       "        text-align: right;\n",
       "    }\n",
       "</style>\n",
       "<table border=\"1\" class=\"dataframe\">\n",
       "  <thead>\n",
       "    <tr style=\"text-align: right;\">\n",
       "      <th>溢价率结构</th>\n",
       "      <th>溢价率10-50%</th>\n",
       "      <th>溢价率&lt;10%</th>\n",
       "    </tr>\n",
       "    <tr>\n",
       "      <th>月</th>\n",
       "      <th></th>\n",
       "      <th></th>\n",
       "    </tr>\n",
       "  </thead>\n",
       "  <tbody>\n",
       "    <tr>\n",
       "      <th>1月</th>\n",
       "      <td>3</td>\n",
       "      <td>4</td>\n",
       "    </tr>\n",
       "  </tbody>\n",
       "</table>\n",
       "</div>"
      ],
      "text/plain": [
       "溢价率结构  溢价率10-50%  溢价率<10%\n",
       "月                        \n",
       "1月             3        4"
      ]
     },
     "execution_count": 15,
     "metadata": {},
     "output_type": "execute_result"
    }
   ],
   "source": [
    "# 数据透视表\n",
    "top30 = top30[top30['月'] != 12]\n",
    "top30_piove_month = top30.pivot_table(values='地块名称', columns='溢价率结构', aggfunc='count',index='月', fill_value=0)\n",
    "\n",
    "top30_piove_month.rename(index={i:'{}月'.format(i) for i in top30_piove_month.index}, inplace=True)\n",
    "top30_piove_month.head()"
   ]
  },
  {
   "cell_type": "code",
   "execution_count": 16,
   "metadata": {},
   "outputs": [],
   "source": [
    "top30_piove_month.to_excel(\"PPT4_2020_TOP30_月更.xlsx\")"
   ]
  },
  {
   "cell_type": "code",
   "execution_count": null,
   "metadata": {},
   "outputs": [],
   "source": []
  },
  {
   "cell_type": "markdown",
   "metadata": {},
   "source": [
    "### 图3 TOP30-50 周更"
   ]
  },
  {
   "cell_type": "code",
   "execution_count": 17,
   "metadata": {},
   "outputs": [
    {
     "data": {
      "text/plain": [
       "(11, 20)"
      ]
     },
     "execution_count": 17,
     "metadata": {},
     "output_type": "execute_result"
    }
   ],
   "source": [
    "top35 = enterprise[enterprise['房企排名'] == 'TOP30-50']\n",
    "top35 = top35.fillna(0)\n",
    "top35 = top35.drop(top35[(top35['月']==1) & (top35['年']==2019)].index).query('周==1')\n",
    "top35.shape"
   ]
  },
  {
   "cell_type": "code",
   "execution_count": 18,
   "metadata": {},
   "outputs": [],
   "source": [
    "# 数据透视表\n",
    "# top35 = top35[top35['月'] != 12]\n",
    "top35_piove_week = top35.pivot_table(values='地块名称', columns='溢价率结构', aggfunc='count',index='周', fill_value=0)\n"
   ]
  },
  {
   "cell_type": "code",
   "execution_count": 19,
   "metadata": {},
   "outputs": [
    {
     "data": {
      "text/html": [
       "<div>\n",
       "<style scoped>\n",
       "    .dataframe tbody tr th:only-of-type {\n",
       "        vertical-align: middle;\n",
       "    }\n",
       "\n",
       "    .dataframe tbody tr th {\n",
       "        vertical-align: top;\n",
       "    }\n",
       "\n",
       "    .dataframe thead th {\n",
       "        text-align: right;\n",
       "    }\n",
       "</style>\n",
       "<table border=\"1\" class=\"dataframe\">\n",
       "  <thead>\n",
       "    <tr style=\"text-align: right;\">\n",
       "      <th>溢价率结构</th>\n",
       "      <th>溢价率10-50%</th>\n",
       "      <th>溢价率&lt;10%</th>\n",
       "      <th>溢价率&gt;50%</th>\n",
       "    </tr>\n",
       "    <tr>\n",
       "      <th>周</th>\n",
       "      <th></th>\n",
       "      <th></th>\n",
       "      <th></th>\n",
       "    </tr>\n",
       "  </thead>\n",
       "  <tbody>\n",
       "    <tr>\n",
       "      <th>1</th>\n",
       "      <td>3</td>\n",
       "      <td>7</td>\n",
       "      <td>1</td>\n",
       "    </tr>\n",
       "  </tbody>\n",
       "</table>\n",
       "</div>"
      ],
      "text/plain": [
       "溢价率结构  溢价率10-50%  溢价率<10%  溢价率>50%\n",
       "周                                 \n",
       "1              3        7        1"
      ]
     },
     "execution_count": 19,
     "metadata": {},
     "output_type": "execute_result"
    }
   ],
   "source": [
    "top35_piove_week.to_excel(\"PPT5_2020_TOP50_周更.xlsx\")\n",
    "top35_piove_week.head(1)"
   ]
  },
  {
   "cell_type": "code",
   "execution_count": null,
   "metadata": {},
   "outputs": [],
   "source": []
  },
  {
   "cell_type": "markdown",
   "metadata": {},
   "source": [
    "### 图5 TOP30-50 月更"
   ]
  },
  {
   "cell_type": "code",
   "execution_count": 20,
   "metadata": {},
   "outputs": [],
   "source": [
    "# 数据透视表\n",
    "top35 = top35[top35['月'] != 12]\n",
    "top35_piove_month = top35.pivot_table(values='地块名称', columns='溢价率结构', aggfunc='count',index='月', fill_value=0)\n",
    "top35_piove_month.rename(index={i:'{}月'.format(i) for i in top35_piove_month.index}, inplace=True)\n"
   ]
  },
  {
   "cell_type": "code",
   "execution_count": 21,
   "metadata": {},
   "outputs": [
    {
     "data": {
      "text/html": [
       "<div>\n",
       "<style scoped>\n",
       "    .dataframe tbody tr th:only-of-type {\n",
       "        vertical-align: middle;\n",
       "    }\n",
       "\n",
       "    .dataframe tbody tr th {\n",
       "        vertical-align: top;\n",
       "    }\n",
       "\n",
       "    .dataframe thead th {\n",
       "        text-align: right;\n",
       "    }\n",
       "</style>\n",
       "<table border=\"1\" class=\"dataframe\">\n",
       "  <thead>\n",
       "    <tr style=\"text-align: right;\">\n",
       "      <th>溢价率结构</th>\n",
       "      <th>溢价率10-50%</th>\n",
       "    </tr>\n",
       "    <tr>\n",
       "      <th>月</th>\n",
       "      <th></th>\n",
       "    </tr>\n",
       "  </thead>\n",
       "  <tbody>\n",
       "    <tr>\n",
       "      <th>1月</th>\n",
       "      <td>2</td>\n",
       "    </tr>\n",
       "  </tbody>\n",
       "</table>\n",
       "</div>"
      ],
      "text/plain": [
       "溢价率结构  溢价率10-50%\n",
       "月               \n",
       "1月             2"
      ]
     },
     "execution_count": 21,
     "metadata": {},
     "output_type": "execute_result"
    }
   ],
   "source": [
    "top35_piove_month.to_excel(\"PPT5_2020_TOP50_月更.xlsx\")\n",
    "top35_piove_month.head(1)"
   ]
  },
  {
   "cell_type": "code",
   "execution_count": null,
   "metadata": {},
   "outputs": [],
   "source": []
  },
  {
   "cell_type": "code",
   "execution_count": null,
   "metadata": {},
   "outputs": [],
   "source": []
  },
  {
   "cell_type": "markdown",
   "metadata": {},
   "source": [
    "## 土地成交明细分布"
   ]
  },
  {
   "cell_type": "code",
   "execution_count": 22,
   "metadata": {},
   "outputs": [],
   "source": [
    "liupai['成交价(万元)'] = 0\n",
    "liupai['成交楼面价(元/㎡)'] = 0\n",
    "liupai['溢价率'] = '流拍'\n",
    "liupai['受让单位'] = ''\n",
    "liupai['土地星级'] = '0星'\n",
    "liupai['溢价率分类'] = '流拍'\n",
    "\n",
    "\n",
    "# 处理成交数据\n",
    "deal['溢价率分类'] = deal['溢价率'].map(lambda x: '底价' if x<=10 else '高溢价' if x>=50 else '溢价' )\n",
    "\n",
    "deal_liupai = pd.concat((deal, liupai), ignore_index=True, sort=False)\n",
    "deal_liupai['日'] = deal_liupai['截止日期'].map(lambda x: str(x.split(\"-\")[2]).lstrip('0'))\n",
    "deal_liupai['城市能级'] = deal_liupai['城市'].map(lambda x: city_map[x])"
   ]
  },
  {
   "cell_type": "code",
   "execution_count": null,
   "metadata": {},
   "outputs": [],
   "source": []
  },
  {
   "cell_type": "markdown",
   "metadata": {},
   "source": [
    "### 101城成交溢价结构_周更"
   ]
  },
  {
   "cell_type": "code",
   "execution_count": 23,
   "metadata": {},
   "outputs": [
    {
     "data": {
      "text/html": [
       "<div>\n",
       "<style scoped>\n",
       "    .dataframe tbody tr th:only-of-type {\n",
       "        vertical-align: middle;\n",
       "    }\n",
       "\n",
       "    .dataframe tbody tr th {\n",
       "        vertical-align: top;\n",
       "    }\n",
       "\n",
       "    .dataframe thead th {\n",
       "        text-align: right;\n",
       "    }\n",
       "</style>\n",
       "<table border=\"1\" class=\"dataframe\">\n",
       "  <thead>\n",
       "    <tr style=\"text-align: right;\">\n",
       "      <th>溢价率分类</th>\n",
       "      <th>底价</th>\n",
       "      <th>流拍</th>\n",
       "      <th>溢价</th>\n",
       "      <th>高溢价</th>\n",
       "    </tr>\n",
       "    <tr>\n",
       "      <th>周</th>\n",
       "      <th></th>\n",
       "      <th></th>\n",
       "      <th></th>\n",
       "      <th></th>\n",
       "    </tr>\n",
       "  </thead>\n",
       "  <tbody>\n",
       "    <tr>\n",
       "      <th>1</th>\n",
       "      <td>75</td>\n",
       "      <td>9</td>\n",
       "      <td>33</td>\n",
       "      <td>4</td>\n",
       "    </tr>\n",
       "  </tbody>\n",
       "</table>\n",
       "</div>"
      ],
      "text/plain": [
       "溢价率分类  底价  流拍  溢价  高溢价\n",
       "周                     \n",
       "1      75   9  33    4"
      ]
     },
     "metadata": {},
     "output_type": "display_data"
    }
   ],
   "source": [
    "# 去除非 2020年第一周数据\n",
    "deal_liupai_w = deal_liupai.drop(deal_liupai[(deal_liupai['月']==1) & (deal_liupai['年']==2019)].index).query('周==1')\n",
    "deal_liupai_w.shape\n",
    "\n",
    "# 按照周\n",
    "deal_liupai_week = deal_liupai_w.pivot_table(index='周', columns='溢价率分类', aggfunc='count', values='地块名称', fill_value=0)\n",
    "display(deal_liupai_week.tail(2))"
   ]
  },
  {
   "cell_type": "code",
   "execution_count": 24,
   "metadata": {},
   "outputs": [],
   "source": [
    "deal_liupai_week.to_excel(\"PPT3_2020_周更_成交溢价结构.xlsx\")"
   ]
  },
  {
   "cell_type": "code",
   "execution_count": null,
   "metadata": {},
   "outputs": [],
   "source": []
  },
  {
   "cell_type": "markdown",
   "metadata": {},
   "source": [
    "### 101城成交溢价结构_月更"
   ]
  },
  {
   "cell_type": "code",
   "execution_count": 25,
   "metadata": {},
   "outputs": [
    {
     "data": {
      "text/html": [
       "<div>\n",
       "<style scoped>\n",
       "    .dataframe tbody tr th:only-of-type {\n",
       "        vertical-align: middle;\n",
       "    }\n",
       "\n",
       "    .dataframe tbody tr th {\n",
       "        vertical-align: top;\n",
       "    }\n",
       "\n",
       "    .dataframe thead th {\n",
       "        text-align: right;\n",
       "    }\n",
       "</style>\n",
       "<table border=\"1\" class=\"dataframe\">\n",
       "  <thead>\n",
       "    <tr style=\"text-align: right;\">\n",
       "      <th>溢价率分类</th>\n",
       "      <th>底价</th>\n",
       "      <th>流拍</th>\n",
       "      <th>溢价</th>\n",
       "      <th>高溢价</th>\n",
       "    </tr>\n",
       "    <tr>\n",
       "      <th>月</th>\n",
       "      <th></th>\n",
       "      <th></th>\n",
       "      <th></th>\n",
       "      <th></th>\n",
       "    </tr>\n",
       "  </thead>\n",
       "  <tbody>\n",
       "    <tr>\n",
       "      <th>1</th>\n",
       "      <td>13</td>\n",
       "      <td>0</td>\n",
       "      <td>10</td>\n",
       "      <td>1</td>\n",
       "    </tr>\n",
       "  </tbody>\n",
       "</table>\n",
       "</div>"
      ],
      "text/plain": [
       "溢价率分类  底价  流拍  溢价  高溢价\n",
       "月                     \n",
       "1      13   0  10    1"
      ]
     },
     "metadata": {},
     "output_type": "display_data"
    }
   ],
   "source": [
    "# 去除非 2020年第一周数据\n",
    "deal_liupai_m = deal_liupai.drop(deal_liupai[deal_liupai['年']==2019].index)\n",
    "deal_liupai_m.shape\n",
    "\n",
    "\n",
    "# 按照月\n",
    "deal_liupai_yue = deal_liupai_m.pivot_table(index='月', columns='溢价率分类', aggfunc='count', values='地块名称', fill_value=0)\n",
    "if '流拍' not in deal_liupai_yue.columns:\n",
    "    deal_liupai_yue['流拍'] = 0\n",
    "deal_liupai_yue = deal_liupai_yue[['底价','流拍','溢价','高溢价']]\n",
    "display(deal_liupai_yue.tail(2))\n"
   ]
  },
  {
   "cell_type": "code",
   "execution_count": 26,
   "metadata": {},
   "outputs": [],
   "source": [
    "deal_liupai_yue.to_excel(\"PPT3_2020_月更_成交溢价结构.xlsx\")"
   ]
  },
  {
   "cell_type": "code",
   "execution_count": null,
   "metadata": {},
   "outputs": [],
   "source": []
  },
  {
   "cell_type": "code",
   "execution_count": null,
   "metadata": {},
   "outputs": [],
   "source": []
  },
  {
   "cell_type": "code",
   "execution_count": null,
   "metadata": {},
   "outputs": [],
   "source": []
  },
  {
   "cell_type": "code",
   "execution_count": null,
   "metadata": {},
   "outputs": [],
   "source": []
  }
 ],
 "metadata": {
  "kernelspec": {
   "display_name": "Python 3",
   "language": "python",
   "name": "python3"
  },
  "language_info": {
   "codemirror_mode": {
    "name": "ipython",
    "version": 3
   },
   "file_extension": ".py",
   "mimetype": "text/x-python",
   "name": "python",
   "nbconvert_exporter": "python",
   "pygments_lexer": "ipython3",
   "version": "3.6.5"
  },
  "toc": {
   "base_numbering": 1,
   "nav_menu": {},
   "number_sections": true,
   "sideBar": true,
   "skip_h1_title": false,
   "title_cell": "Table of Contents",
   "title_sidebar": "Contents",
   "toc_cell": false,
   "toc_position": {
    "height": "calc(100% - 180px)",
    "left": "10px",
    "top": "150px",
    "width": "273px"
   },
   "toc_section_display": true,
   "toc_window_display": true
  },
  "varInspector": {
   "cols": {
    "lenName": 16,
    "lenType": 16,
    "lenVar": 40
   },
   "kernels_config": {
    "python": {
     "delete_cmd_postfix": "",
     "delete_cmd_prefix": "del ",
     "library": "var_list.py",
     "varRefreshCmd": "print(var_dic_list())"
    },
    "r": {
     "delete_cmd_postfix": ") ",
     "delete_cmd_prefix": "rm(",
     "library": "var_list.r",
     "varRefreshCmd": "cat(var_dic_list()) "
    }
   },
   "types_to_exclude": [
    "module",
    "function",
    "builtin_function_or_method",
    "instance",
    "_Feature"
   ],
   "window_display": false
  }
 },
 "nbformat": 4,
 "nbformat_minor": 2
}
