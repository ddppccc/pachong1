{
 "cells": [
  {
   "cell_type": "markdown",
   "metadata": {},
   "source": [
    "## 整理所需数据"
   ]
  },
  {
   "cell_type": "code",
   "execution_count": 14,
   "metadata": {},
   "outputs": [],
   "source": [
    "import os\n",
    "import pyecharts\n",
    "\n",
    "import pandas as pd\n"
   ]
  },
  {
   "cell_type": "code",
   "execution_count": 15,
   "metadata": {
    "code_folding": [
     0
    ]
   },
   "outputs": [],
   "source": [
    "## 城市能级 city_map\n",
    "\n",
    "city_map = {\"上海\": \"一二线\",\n",
    "\"北京\": \"一二线\",\n",
    "\"重庆\": \"一二线\",\n",
    "\"广州\": \"一二线\",\n",
    "\"深圳\": \"一二线\",\n",
    "\"天津\": \"一二线\",\n",
    "\"成都\": \"一二线\",\n",
    "\"杭州\": \"一二线\",\n",
    "\"武汉\": \"一二线\",\n",
    "\"苏州\": \"一二线\",\n",
    "\"南京\": \"一二线\",\n",
    "\"青岛\": \"一二线\",\n",
    "\"郑州\": \"一二线\",\n",
    "\"宁波\": \"一二线\",\n",
    "\"佛山\": \"一二线\",\n",
    "\"西安\": \"一二线\",\n",
    "\"长沙\": \"一二线\",\n",
    "\"无锡\": \"一二线\",\n",
    "\"温州\": \"三四线\",\n",
    "\"东莞\": \"三四线\",\n",
    "\"福州\": \"一二线\",\n",
    "\"济南\": \"一二线\",\n",
    "\"厦门\": \"一二线\",\n",
    "\"南通\": \"三四线\",\n",
    "\"沈阳\": \"一二线\",\n",
    "\"合肥\": \"一二线\",\n",
    "\"石家庄\": \"一二线\",\n",
    "\"哈尔滨\": \"一二线\",\n",
    "\"昆明\": \"一二线\",\n",
    "\"常州\": \"三四线\",\n",
    "\"嘉兴\": \"三四线\",\n",
    "\"泉州\": \"三四线\",\n",
    "\"烟台\": \"三四线\",\n",
    "\"台州\": \"三四线\",\n",
    "\"唐山\": \"三四线\",\n",
    "\"潍坊\": \"三四线\",\n",
    "\"绍兴\": \"三四线\",\n",
    "\"金华\": \"三四线\",\n",
    "\"南昌\": \"一二线\",\n",
    "\"长春\": \"一二线\",\n",
    "\"惠州\": \"三四线\",\n",
    "\"大连\": \"一二线\",\n",
    "\"南宁\": \"一二线\",\n",
    "\"临沂\": \"三四线\",\n",
    "\"徐州\": \"三四线\",\n",
    "\"中山\": \"三四线\",\n",
    "\"廊坊\": \"三四线\",\n",
    "\"珠海\": \"三四线\",\n",
    "\"扬州\": \"三四线\",\n",
    "\"保定\": \"三四线\",\n",
    "\"泰州\": \"三四线\",\n",
    "\"济宁\": \"三四线\",\n",
    "\"湖州\": \"三四线\",\n",
    "\"洛阳\": \"三四线\",\n",
    "\"威海\": \"三四线\",\n",
    "\"淄博\": \"三四线\",\n",
    "\"镇江\": \"三四线\",\n",
    "\"盐城\": \"三四线\",\n",
    "\"三亚\": \"三四线\",\n",
    "\"沧州\": \"三四线\",\n",
    "\"邯郸\": \"三四线\",\n",
    "\"贵阳\": \"一二线\",\n",
    "\"赣州\": \"三四线\",\n",
    "\"太原\": \"一二线\",\n",
    "\"漳州\": \"三四线\",\n",
    "\"呼和浩特\": \"一二线\",\n",
    "\"芜湖\": \"三四线\",\n",
    "\"兰州\": \"一二线\",\n",
    "\"株洲\": \"三四线\",\n",
    "\"江门\": \"三四线\",\n",
    "\"东营\": \"三四线\",\n",
    "\"泰安\": \"三四线\",\n",
    "\"阜阳\": \"三四线\",\n",
    "\"宜昌\": \"三四线\",\n",
    "\"南阳\": \"三四线\",\n",
    "\"衡阳\": \"三四线\",\n",
    "\"商丘\": \"三四线\",\n",
    "\"舟山\": \"三四线\",\n",
    "\"新乡\": \"三四线\",\n",
    "\"包头\": \"三四线\",\n",
    "\"上饶\": \"三四线\",\n",
    "\"菏泽\": \"三四线\",\n",
    "\"乌鲁木齐\": \"一二线\",\n",
    "\"驻马店\": \"三四线\",\n",
    "\"海口\": \"三四线\",\n",
    "\"淮安\": \"三四线\",\n",
    "\"信阳\": \"三四线\",\n",
    "\"襄阳\": \"三四线\",\n",
    "\"南充\": \"三四线\",\n",
    "\"连云港\": \"三四线\",\n",
    "\"岳阳\": \"三四线\",\n",
    "\"衢州\": \"三四线\",\n",
    "\"桂林\": \"三四线\",\n",
    "\"周口\": \"三四线\",\n",
    "\"安阳\": \"三四线\",\n",
    "\"九江\": \"三四线\",\n",
    "\"绵阳\": \"三四线\",\n",
    "\"德州\": \"三四线\",\n",
    "\"柳州\": \"三四线\",\n",
    "\"莆田\": \"三四线\",\n",
    "\"聊城\": \"三四线\",\n",
    "\"马鞍山\": \"三四线\",\n",
    "\"大庆\": \"三四线\",\n",
    "\"汕头\": \"三四线\",\n",
    "\"宜春\": \"三四线\",\n",
    "\"常德\": \"三四线\",\n",
    "\"宿迁\": \"三四线\",\n",
    "\"咸阳\": \"三四线\",\n",
    "\"黄冈\": \"三四线\",\n",
    "\"丽水\": \"三四线\",\n",
    "\"玉林\": \"三四线\",\n",
    "\"郴州\": \"三四线\",\n",
    "\"湛江\": \"三四线\",\n",
    "\"泸州\": \"三四线\",\n",
    "\"许昌\": \"三四线\",\n",
    "\"清远\": \"三四线\",\n",
    "\"蚌埠\": \"三四线\",\n",
    "\"安庆\": \"三四线\",\n",
    "\"茂名\": \"三四线\",\n",
    "\"荆州\": \"三四线\",\n",
    "\"秦皇岛\": \"三四线\",\n",
    "\"宿州\": \"三四线\",\n",
    "\"六安\": \"三四线\",\n",
    "\"鄂尔多斯\": \"三四线\",\n",
    "\"宝鸡\": \"三四线\",\n",
    "\"肇庆\": \"三四线\",\n",
    "\"滁州\": \"三四线\",\n",
    "\"达州\": \"三四线\",\n",
    "\"宜宾\": \"三四线\",\n",
    "\"龙岩\": \"三四线\",\n",
    "\"枣庄\": \"三四线\",\n",
    "\"邵阳\": \"三四线\",\n",
    "\"榆林\": \"三四线\",\n",
    "\"银川\": \"一二线\",\n",
    "\"鞍山\": \"三四线\",\n",
    "\"衡水\": \"三四线\",\n",
    "\"渭南\": \"三四线\",\n",
    "\"邢台\": \"三四线\",\n",
    "\"抚州\": \"三四线\",\n",
    "\"德阳\": \"三四线\",\n",
    "\"吉安\": \"三四线\",\n",
    "\"宣城\": \"三四线\",\n",
    "\"滨州\": \"三四线\",\n",
    "\"眉山\": \"三四线\",\n",
    "\"日照\": \"三四线\",\n",
    "\"亳州\": \"三四线\",\n",
    "\"承德\": \"三四线\",\n",
    "\"湘潭\": \"三四线\",\n",
    "\"三明\": \"三四线\",\n",
    "\"平顶山\": \"三四线\",\n",
    "\"乐山\": \"三四线\",\n",
    "\"濮阳\": \"三四线\",\n",
    "\"宁德\": \"三四线\",\n",
    "\"内江\": \"三四线\",\n",
    "\"锦州\": \"三四线\",\n",
    "\"广安\": \"三四线\",\n",
    "\"揭阳\": \"三四线\",\n",
    "\"资阳\": \"三四线\",\n",
    "\"营口\": \"三四线\",\n",
    "\"遂宁\": \"三四线\",\n",
    "\"长治\": \"三四线\",\n",
    "\"焦作\": \"三四线\",\n",
    "\"梅州\": \"三四线\",\n",
    "\"盘锦\": \"三四线\",\n",
    "\"张家口\": \"三四线\",\n",
    "\"益阳\": \"三四线\",\n",
    "\"西宁\": \"一二线\",\n",
    "\"怀化\": \"三四线\",\n",
    "\"临汾\": \"三四线\",\n",
    "\"运城\": \"三四线\",\n",
    "\"淮南\": \"三四线\",\n",
    "\"自贡\": \"三四线\",\n",
    "\"南平\": \"三四线\",\n",
    "\"韶关\": \"三四线\",\n",
    "\"十堰\": \"三四线\",\n",
    "\"孝感\": \"三四线\",\n",
    "\"铜陵\": \"三四线\",\n",
    "\"永州\": \"三四线\",\n",
    "\"大同\": \"三四线\",\n",
    "\"黄石\": \"三四线\",\n",
    "\"晋城\": \"三四线\",\n",
    "\"钦州\": \"三四线\",\n",
    "\"攀枝花\": \"三四线\",\n",
    "\"牡丹江\": \"三四线\",\n",
    "\"景德镇\": \"三四线\",\n",
    "\"开封\": \"三四线\",\n",
    "\"绥化\": \"三四线\",\n",
    "\"延安\": \"三四线\",\n",
    "\"百色\": \"三四线\",\n",
    "\"汉中\": \"三四线\",\n",
    "\"丹东\": \"三四线\",\n",
    "\"阳江\": \"三四线\",\n",
    "\"娄底\": \"三四线\",\n",
    "\"黄山\": \"三四线\",\n",
    "\"新余\": \"三四线\",\n",
    "\"萍乡\": \"三四线\",\n",
    "\"本溪\": \"三四线\",\n",
    "\"咸宁\": \"三四线\",\n",
    "\"抚顺\": \"三四线\",\n",
    "\"巴中\": \"三四线\",\n",
    "\"荆门\": \"三四线\",\n",
    "\"河源\": \"三四线\",\n",
    "\"淮北\": \"三四线\",\n",
    "\"广元\": \"三四线\",\n",
    "\"漯河\": \"三四线\",\n",
    "\"吕梁\": \"三四线\",\n",
    "\"葫芦岛\": \"三四线\",\n",
    "\"六盘水\": \"三四线\",\n",
    "\"防城港\": \"三四线\",\n",
    "\"安康\": \"三四线\",\n",
    "\"辽阳\": \"三四线\",\n",
    "\"来宾\": \"三四线\",\n",
    "\"朝阳\": \"三四线\",\n",
    "\"鹰潭\": \"三四线\",\n",
    "\"三门峡\": \"三四线\",\n",
    "\"晋中\": \"三四线\",\n",
    "\"酒泉\": \"三四线\",\n",
    "\"汕尾\": \"三四线\",\n",
    "\"鹤壁\": \"三四线\",\n",
    "\"齐齐哈尔\": \"三四线\",\n",
    "\"贺州\": \"三四线\",\n",
    "\"随州\": \"三四线\",\n",
    "\"鄂州\": \"三四线\",\n",
    "\"雅安\": \"三四线\",\n",
    "\"潮州\": \"三四线\",\n",
    "\"嘉峪关\": \"三四线\",\n",
    "\"商洛\": \"三四线\",\n",
    "\"云浮\": \"三四线\",\n",
    "\"庆阳\": \"三四线\",\n",
    "\"莱芜\": \"三四线\",\n",
    "\"阳泉\": \"三四线\",\n",
    "\"铁岭\": \"三四线\",\n",
    "\"佳木斯\": \"三四线\",\n",
    "\"平凉\": \"三四线\",\n",
    "\"白银\": \"三四线\",\n",
    "\"阜新\": \"三四线\",\n",
    "\"河池\": \"三四线\",\n",
    "\"武威\": \"三四线\",\n",
    "\"池州\": \"三四线\",\n",
    "\"黑河\": \"三四线\",\n",
    "\"张家界\": \"三四线\",\n",
    "\"朔州\": \"三四线\",\n",
    "\"鸡西\": \"三四线\",\n",
    "\"铜川\": \"三四线\",\n",
    "\"张掖\": \"三四线\",\n",
    "\"乌兰察布\": \"三四线\",\n",
    "\"伊春\": \"三四线\",\n",
    "\"双鸭山\": \"三四线\",\n",
    "\"梧州\": \"三四线\",\n",
    "\"鹤岗\": \"三四线\"}"
   ]
  },
  {
   "cell_type": "code",
   "execution_count": 16,
   "metadata": {},
   "outputs": [],
   "source": [
    "# 底稿城市\n",
    "city_digao = [\"北京\",\"上海\",\"广州\",\"深圳\",\"南京\",\"苏州\",\"厦门\",\"合肥\",\"天津\",\"武汉\",\"杭州\",\"福州\",\"济南\",\n",
    "              \"南昌\",\"无锡\",\"宁波\",\"成都\",\"郑州\",\"南宁\",\"长沙\",\"西安\",\"重庆\",\"青岛\",\"沈阳\",\"大连\",\"常州\",\n",
    "              \"徐州\",\"南通\",\"嘉兴\",\"绍兴\",\"温州\",\"镇江\",\"扬州\",\"泉州\",\"漳州\",\"佛山\",\"东莞\",\"中山\",\"惠州\",\n",
    "              \"珠海\",\"安庆\",\"株洲\",\"阜阳\",\"蚌埠\",\"常德\",\"湘潭\",\"芜湖\",\"岳阳\",\"荆门\",\"荆州\",\"襄阳\",\"宜昌\",\n",
    "              \"抚州\",\"赣州\",\"吉安\",\"九江\",\"洛阳\",\"信阳\",\"新乡\",\"南阳\",\"淄博\",\"临沂\",\"兰州\",\"昆明\",\"宝鸡\",\n",
    "              \"德阳\",\"贵阳\",\"哈尔滨\",\"衡阳\",\"呼和浩特\",\"湖州\",\"淮安\",\"济宁\",\"江门\",\"金华\",\"廊坊\",\"丽水\",\n",
    "              \"连云港\",\"龙岩\",\"泸州\",\"马鞍山\",\"南平\",\"内江\",\"宁德\",\"莆田\",\"衢州\",\"三明\",\"汕头\",\"石家庄\",\n",
    "              \"台州\",\"太原\",\"泰州\",\"潍坊\",\"乌鲁木齐\",\"烟台\",\"盐城\",\"银川\",\"湛江\",\"长春\",\"肇庆\",\"茂名\"]\n",
    "city_digao = pd.DataFrame(city_digao, columns=['城市'])"
   ]
  },
  {
   "cell_type": "code",
   "execution_count": 17,
   "metadata": {},
   "outputs": [],
   "source": [
    "# 读取数据\n",
    "\n",
    "deal = pd.read_excel('./数据整理/中指2019年数据.xlsx', sheet_name='土地成交明细')\n",
    "liupai = pd.read_excel('./数据整理/中指2019年数据.xlsx', sheet_name='土地流拍')\n",
    "\n",
    "deal.replace('--', 0, inplace=True)\n",
    "liupai.replace('--', 0, inplace=True)"
   ]
  },
  {
   "cell_type": "code",
   "execution_count": 18,
   "metadata": {},
   "outputs": [],
   "source": [
    "# 处理流拍数据\n",
    "liupai['成交价(万元)'] = 0\n",
    "liupai['成交楼面价(元/㎡)'] = 0\n",
    "liupai['溢价率'] = '流拍'\n",
    "liupai['受让单位'] = ''\n",
    "liupai['土地星级'] = '0星'\n",
    "liupai['溢价率分类'] = '流拍'\n",
    "\n",
    "\n",
    "# 处理成交数据\n",
    "deal['溢价率分类'] = deal['溢价率'].map(lambda x: '底价' if x==0 else '高溢价' if x>50 else '溢价' )\n",
    "\n",
    "deal_liupai = pd.concat((deal, liupai), ignore_index=True, sort=False)\n",
    "deal_liupai['日'] = deal_liupai['截止日期'].map(lambda x: x.split(\"-\")[2].lstrip('0'))\n",
    "deal_liupai['城市能级'] = deal_liupai['城市'].map(lambda x: city_map[x])"
   ]
  },
  {
   "cell_type": "markdown",
   "metadata": {},
   "source": [
    "### 图1 101城溢价率结构表"
   ]
  },
  {
   "cell_type": "code",
   "execution_count": 21,
   "metadata": {},
   "outputs": [
    {
     "data": {
      "text/html": [
       "<div>\n",
       "<style scoped>\n",
       "    .dataframe tbody tr th:only-of-type {\n",
       "        vertical-align: middle;\n",
       "    }\n",
       "\n",
       "    .dataframe tbody tr th {\n",
       "        vertical-align: top;\n",
       "    }\n",
       "\n",
       "    .dataframe thead th {\n",
       "        text-align: right;\n",
       "    }\n",
       "</style>\n",
       "<table border=\"1\" class=\"dataframe\">\n",
       "  <thead>\n",
       "    <tr style=\"text-align: right;\">\n",
       "      <th>溢价率分类</th>\n",
       "      <th>底价</th>\n",
       "      <th>流拍</th>\n",
       "      <th>溢价</th>\n",
       "      <th>高溢价</th>\n",
       "      <th>总计</th>\n",
       "    </tr>\n",
       "    <tr>\n",
       "      <th>月</th>\n",
       "      <th></th>\n",
       "      <th></th>\n",
       "      <th></th>\n",
       "      <th></th>\n",
       "      <th></th>\n",
       "    </tr>\n",
       "  </thead>\n",
       "  <tbody>\n",
       "    <tr>\n",
       "      <th>1</th>\n",
       "      <td>53.97%</td>\n",
       "      <td>6.61%</td>\n",
       "      <td>31.22%</td>\n",
       "      <td>8.20%</td>\n",
       "      <td>378</td>\n",
       "    </tr>\n",
       "    <tr>\n",
       "      <th>2</th>\n",
       "      <td>50.00%</td>\n",
       "      <td>4.55%</td>\n",
       "      <td>44.55%</td>\n",
       "      <td>0.91%</td>\n",
       "      <td>220</td>\n",
       "    </tr>\n",
       "    <tr>\n",
       "      <th>3</th>\n",
       "      <td>36.80%</td>\n",
       "      <td>3.35%</td>\n",
       "      <td>47.96%</td>\n",
       "      <td>11.90%</td>\n",
       "      <td>269</td>\n",
       "    </tr>\n",
       "    <tr>\n",
       "      <th>4</th>\n",
       "      <td>34.88%</td>\n",
       "      <td>2.72%</td>\n",
       "      <td>44.69%</td>\n",
       "      <td>17.71%</td>\n",
       "      <td>367</td>\n",
       "    </tr>\n",
       "    <tr>\n",
       "      <th>5</th>\n",
       "      <td>36.93%</td>\n",
       "      <td>1.73%</td>\n",
       "      <td>48.16%</td>\n",
       "      <td>13.17%</td>\n",
       "      <td>463</td>\n",
       "    </tr>\n",
       "  </tbody>\n",
       "</table>\n",
       "</div>"
      ],
      "text/plain": [
       "溢价率分类      底价     流拍      溢价     高溢价   总计\n",
       "月                                        \n",
       "1      53.97%  6.61%  31.22%   8.20%  378\n",
       "2      50.00%  4.55%  44.55%   0.91%  220\n",
       "3      36.80%  3.35%  47.96%  11.90%  269\n",
       "4      34.88%  2.72%  44.69%  17.71%  367\n",
       "5      36.93%  1.73%  48.16%  13.17%  463"
      ]
     },
     "execution_count": 21,
     "metadata": {},
     "output_type": "execute_result"
    }
   ],
   "source": [
    "b = deal_liupai.pivot_table(values='地块名称', columns='溢价率分类', aggfunc='count',index='月')\n",
    "\n",
    "b.eval(' 总计 = 底价+流拍+溢价+高溢价', inplace=True)\n",
    "b['底价'] = (b['底价'] / b['总计']).apply(lambda x: format(x, '.2%')) \n",
    "b['流拍'] = (b['流拍'] / b['总计']).apply(lambda x: format(x, '.2%')) \n",
    "b['溢价'] = (b['溢价'] / b['总计']).apply(lambda x: format(x, '.2%')) \n",
    "b['高溢价'] = (b['高溢价'] / b['总计']).apply(lambda x: format(x, '.2%')) \n",
    "\n",
    "yijia101 = b.copy()\n",
    "yijia101.head()"
   ]
  },
  {
   "cell_type": "code",
   "execution_count": null,
   "metadata": {},
   "outputs": [],
   "source": []
  },
  {
   "cell_type": "markdown",
   "metadata": {},
   "source": [
    "### 房企"
   ]
  },
  {
   "cell_type": "code",
   "execution_count": null,
   "metadata": {},
   "outputs": [],
   "source": [
    "enterprise = pd.read_excel('./数据整理/中指2019年数据.xlsx', sheet_name='房企拿地')\n",
    "\n",
    "enterprise.fillna(0, inplace=True)\n",
    "enterprise = enterprise[['房企', '地块名称', '城市', '规划用途', '占地面积(万㎡)',\n",
    "           '规划建筑面积(万㎡)', '总成交金额(亿元)', '平均楼面价(元/㎡)',\n",
    "           '平均溢价率(%)', '土地权益(%)','权益金额(亿元)', '权益规划建筑面积(万㎡)', \n",
    "            '拿地时间', '城市能级', '年', '月', '周', '房企排名']]\n",
    "enterprise['城市能级'] = enterprise['城市'].map(lambda x: city_map.get(x, '三四线'))\n"
   ]
  },
  {
   "cell_type": "code",
   "execution_count": null,
   "metadata": {},
   "outputs": [],
   "source": [
    "enterprise['日'] = enterprise['拿地时间'].map(lambda x: x.split(\"-\")[2].lstrip('0'))\n",
    "enterprise['溢价率结构'] = enterprise['平均溢价率(%)'].map(lambda x: '溢价率<10%' if x<10 else '溢价率>50%' if x>50 else '溢价率10-50%'  )\n",
    "enterprise.head(1)"
   ]
  },
  {
   "cell_type": "markdown",
   "metadata": {},
   "source": [
    "#### 图2 TOP30周更"
   ]
  },
  {
   "cell_type": "code",
   "execution_count": null,
   "metadata": {},
   "outputs": [],
   "source": [
    "top30 = enterprise[enterprise['房企排名'] == 'TOP30']\n",
    "top30.fillna(0, inplace=True)\n",
    "top30.head(1)"
   ]
  },
  {
   "cell_type": "code",
   "execution_count": null,
   "metadata": {},
   "outputs": [],
   "source": [
    "# 数据透视表\n",
    "top30_piove_week = top30.pivot_table(values='地块名称', columns='溢价率结构', aggfunc='count',index='周', fill_value=0)\n",
    "\n",
    "# top30_piove['总计'] = top30_piove['溢价率10-50%'] + top30_piove['溢价率<10%'] + top30_piove['溢价率>50%']\n",
    "# top30_piove['溢价率10-50%'] = (top30_piove['溢价率10-50%'] / top30_piove['总计']).apply(lambda x: format(x, '.1%')) \n",
    "# top30_piove['溢价率<10%'] = (top30_piove['溢价率<10%'] / top30_piove['总计']).apply(lambda x: format(x, '.1%')) \n",
    "# top30_piove['溢价率>50%'] = (top30_piove['溢价率>50%'] / top30_piove['总计']).apply(lambda x: format(x, '.1%')) \n",
    "# top30_piove = top30_piove[['溢价率10-50%', '溢价率<10%', '溢价率>50%']]\n",
    "\n",
    "top30_piove_week.head()"
   ]
  },
  {
   "cell_type": "markdown",
   "metadata": {},
   "source": [
    "#### 图4 TOP30 月更"
   ]
  },
  {
   "cell_type": "code",
   "execution_count": null,
   "metadata": {},
   "outputs": [],
   "source": [
    "# 数据透视表\n",
    "top30_piove_month = top30.pivot_table(values='地块名称', columns='溢价率结构', aggfunc='count',index='月', fill_value=0)\n",
    "\n",
    "top30_piove_month.head()"
   ]
  },
  {
   "cell_type": "markdown",
   "metadata": {},
   "source": [
    "#### 图3 TOP30-50 周更"
   ]
  },
  {
   "cell_type": "code",
   "execution_count": null,
   "metadata": {},
   "outputs": [],
   "source": [
    "top35 = enterprise[enterprise['房企排名'] == 'TOP30-50']\n",
    "top35.fillna(0, inplace=True)"
   ]
  },
  {
   "cell_type": "code",
   "execution_count": null,
   "metadata": {},
   "outputs": [],
   "source": [
    "# 数据透视表\n",
    "top35_piove_week = top35.pivot_table(values='地块名称', columns='溢价率结构', aggfunc='count',index='周', fill_value=0)\n",
    "\n",
    "top35_piove_week.head()"
   ]
  },
  {
   "cell_type": "markdown",
   "metadata": {},
   "source": [
    "#### 图5 TOP30-50 月更"
   ]
  },
  {
   "cell_type": "code",
   "execution_count": null,
   "metadata": {},
   "outputs": [],
   "source": [
    "# 数据透视表\n",
    "top35_piove_month = top35.pivot_table(values='地块名称', columns='溢价率结构', aggfunc='count',index='月', fill_value=0)\n",
    "\n",
    "top35_piove_month.head()"
   ]
  },
  {
   "cell_type": "markdown",
   "metadata": {},
   "source": [
    "#### 图6  op30, 30-50房企当周拿地布局"
   ]
  },
  {
   "cell_type": "code",
   "execution_count": null,
   "metadata": {},
   "outputs": [],
   "source": [
    "top30_50 = enterprise[enterprise['周'] == 41]\n",
    "\n",
    "# 数据透视表\n",
    "top30_50_layout = top30_50.pivot_table(index=['房企排名', '房企', '城市'],\n",
    "                                values='地块名称', \n",
    "                                columns='溢价率结构', \n",
    "                                aggfunc='count',\n",
    "                                fill_value='')\n",
    "\n",
    "top30_50_layout"
   ]
  },
  {
   "cell_type": "code",
   "execution_count": null,
   "metadata": {},
   "outputs": [],
   "source": []
  },
  {
   "cell_type": "markdown",
   "metadata": {},
   "source": [
    "### 房企融资"
   ]
  },
  {
   "cell_type": "code",
   "execution_count": null,
   "metadata": {},
   "outputs": [],
   "source": [
    "# TOP50房企融资走势\n",
    "rongzi = pd.read_excel('./数据整理/中指2019年数据.xlsx', sheet_name='房企融资')\n",
    "rongzi['年'] = rongzi['时间'].map(lambda x: datetime.datetime.strptime(x,'%Y-%m-%d').isocalendar()[0])\n",
    "rongzi['周'] = rongzi['时间'].map(lambda x: int(datetime.datetime.strptime(x,'%Y-%m-%d').isocalendar()[1]))\n",
    "# rongzi['日'] = rongzi['时间'].map(lambda x: x.split('-')[2].lstrip('0'))\n",
    "\n",
    "rongzi = rongzi[rongzi['年']>2016]"
   ]
  },
  {
   "cell_type": "markdown",
   "metadata": {},
   "source": [
    "#### 图7 房企融资走势"
   ]
  },
  {
   "cell_type": "code",
   "execution_count": null,
   "metadata": {},
   "outputs": [],
   "source": [
    "# 数据透视表\n",
    "rong_toushi = rongzi.pivot_table(values='金额(亿元)',\n",
    "                                 index=['年','周'],\n",
    "#                                  columns=['周',\n",
    "                                 aggfunc='sum',\n",
    "                                 fill_value=0)\n",
    "\n",
    "rong = pd.DataFrame(rong_toushi.values, index, columns=['金额(亿元)'])\n",
    "rong = rong.reindex(index)\n",
    "rong.head()"
   ]
  },
  {
   "cell_type": "markdown",
   "metadata": {},
   "source": [
    "#### 当周融资情况"
   ]
  },
  {
   "cell_type": "code",
   "execution_count": null,
   "metadata": {},
   "outputs": [],
   "source": [
    "# 上一周\n",
    "lastweek = datetime.datetime.now().isocalendar()[1]-1\n",
    "lastrong = rongzi.query('年 == 2019 and 周==@lastweek' )"
   ]
  },
  {
   "cell_type": "code",
   "execution_count": null,
   "metadata": {},
   "outputs": [],
   "source": [
    "lastrong_toushi = lastrong.pivot_table(values='金额(亿元)', index='房企', aggfunc='sum')\n",
    "lastrong_toushi"
   ]
  },
  {
   "cell_type": "code",
   "execution_count": null,
   "metadata": {},
   "outputs": [],
   "source": []
  },
  {
   "cell_type": "code",
   "execution_count": null,
   "metadata": {},
   "outputs": [],
   "source": []
  },
  {
   "cell_type": "code",
   "execution_count": null,
   "metadata": {},
   "outputs": [],
   "source": []
  },
  {
   "cell_type": "code",
   "execution_count": null,
   "metadata": {},
   "outputs": [],
   "source": []
  },
  {
   "cell_type": "markdown",
   "metadata": {
    "heading_collapsed": true
   },
   "source": [
    "## 整理出ppt"
   ]
  },
  {
   "cell_type": "code",
   "execution_count": 1,
   "metadata": {
    "hidden": true
   },
   "outputs": [],
   "source": [
    "from pptx.chart.data import CategoryChartData\n",
    "from pptx.enum.chart import XL_CHART_TYPE\n",
    "from pptx.util import Inches\n",
    "from pptx import Presentation\n",
    "from pptx.dml.color import RGBColor\n",
    "from pptx.chart.data import ChartData\n",
    "from pptx.util import Pt\n",
    "\n",
    "import pandas as pd\n",
    "import os\n",
    "\n"
   ]
  },
  {
   "cell_type": "code",
   "execution_count": 2,
   "metadata": {
    "hidden": true
   },
   "outputs": [],
   "source": [
    "path = './数据整理/世茂土地市场预- 副本.pptx'\n",
    "\n",
    "\n",
    "prs = Presentation(path)\n",
    "slides = prs.slides"
   ]
  },
  {
   "cell_type": "markdown",
   "metadata": {
    "hidden": true
   },
   "source": [
    "### 第二张幻灯片"
   ]
  },
  {
   "cell_type": "code",
   "execution_count": 3,
   "metadata": {
    "hidden": true
   },
   "outputs": [
    {
     "name": "stdout",
     "output_type": "stream",
     "text": [
      "slides[1].shapes[0] PLACEHOLDER (14)\n",
      "4、土地预警\n",
      "\n",
      "slides[1].shapes[1] AUTO_SHAPE (1)\n",
      "本周土拍热度持续下降，核心城市出现流拍。建议重点关注II级、III级降温城市核心区域，获取优质地块。\n",
      "\n",
      "slides[1].shapes[2] AUTO_SHAPE (1)\n",
      "监测的101城里本周共有26个城市有土地成交，其中降温预警的有20个，占比约77%。\n",
      "苏州今年首次出现居住用地流拍；杭州土拍热度维持低位；金茂29亿首进珠海斗门，地价较7月恒大地块下降25%。\n",
      "\n",
      "slides[1].shapes[3] CHART (3)\n",
      "101城土地溢价率结构\n",
      "\n"
     ]
    }
   ],
   "source": [
    "i = 1\n",
    "slide = prs.slides[1]\n",
    "for j,shape in enumerate(slide.shapes):\n",
    "\n",
    "    print('slides[%s]'%i+'.shapes[%s]'%j,shape.shape_type)\n",
    "    if shape.has_text_frame:\n",
    "        print(shape.text_frame.text)\n",
    "    if shape.has_chart:\n",
    "        print(shape.chart.chart_title.text_frame.text)\n",
    "    print()"
   ]
  },
  {
   "cell_type": "code",
   "execution_count": 4,
   "metadata": {
    "hidden": true
   },
   "outputs": [],
   "source": [
    "# 修改 101城土地溢价结构表数据\n",
    "shapes = slide.shapes[1]\n",
    "\n",
    "chart_data = ChartData()\n",
    "chart_data.categories = ['1', '2', '3', '4']\n",
    "chart_data.add_series('流拍', (0.1, 0.2, 0.35, 0.35))\n",
    "chart_data.add_series('底价', (0.15, 0.05, 0.40, 0.40))\n",
    "chart_data.add_series('溢价', (0.30, 0.40, 0.10, 0.20))\n",
    "chart_data.add_series('高溢价', (0.25, 0.45, 0.25, 0.05))\n",
    "\n",
    "\n",
    "# 替换数据\n",
    "shape.chart.replace_data(chart_data)"
   ]
  },
  {
   "cell_type": "code",
   "execution_count": null,
   "metadata": {
    "hidden": true
   },
   "outputs": [],
   "source": []
  },
  {
   "cell_type": "markdown",
   "metadata": {
    "hidden": true
   },
   "source": [
    "### 第三张幻灯片"
   ]
  },
  {
   "cell_type": "code",
   "execution_count": 5,
   "metadata": {
    "hidden": true
   },
   "outputs": [
    {
     "name": "stdout",
     "output_type": "stream",
     "text": [
      "slides[2].shapes[0] TEXT_BOX (17)\n",
      "数据来源：中指\n",
      "\n",
      "slides[2].shapes[1] TEXT_BOX (17)\n",
      "5、房企拿地\n",
      "\n",
      "slides[2].shapes[2] AUTO_SHAPE (1)\n",
      "本周房企拿地热度上涨，TOP30房企拿地数量达51块，其中招商在昆明一举拿下26块土地，TOP30-50房企周度拿地数量仅2块。\n",
      "\n",
      "slides[2].shapes[3] AUTO_SHAPE (1)\n",
      "10月累计至第二周，TOP30房企底价成交率为96%，且无高溢价成交地块。\n",
      "10月累计至第二周，TOP30-50房企底价成交率50%，无高溢价成交。\n",
      "\n",
      "slides[2].shapes[4] TEXT_BOX (17)\n",
      "本周标杆房企拿地布局\n",
      "\n",
      "slides[2].shapes[5] None\n",
      "\n",
      "slides[2].shapes[6] TEXT_BOX (17)\n",
      "标杆房企拿地数量及溢价率走势\n",
      "\n",
      "slides[2].shapes[7] CHART (3)\n",
      "\n",
      "\n",
      "slides[2].shapes[8] CHART (3)\n",
      "\n",
      "\n",
      "slides[2].shapes[9] CHART (3)\n",
      "\n",
      "\n",
      "slides[2].shapes[10] CHART (3)\n",
      "\n",
      "\n",
      "slides[2].shapes[11] AUTO_SHAPE (1)\n",
      "周度走势\n",
      "\n",
      "slides[2].shapes[12] AUTO_SHAPE (1)\n",
      "月度走势\n",
      "\n"
     ]
    }
   ],
   "source": [
    "i = 2\n",
    "slide = prs.slides[2]\n",
    "for j,shape in enumerate(slide.shapes):\n",
    "\n",
    "    print('slides[%s]'%i+'.shapes[%s]'%j,shape.shape_type)\n",
    "    if shape.has_text_frame:\n",
    "        print(shape.text_frame.text)\n",
    "    if shape.has_chart:\n",
    "        print(shape.chart.chart_title.text_frame.text)\n",
    "    print()"
   ]
  },
  {
   "cell_type": "markdown",
   "metadata": {
    "hidden": true
   },
   "source": [
    "**TOP30 周更**"
   ]
  },
  {
   "cell_type": "code",
   "execution_count": 6,
   "metadata": {
    "hidden": true
   },
   "outputs": [],
   "source": [
    "# slides[7].shapes[7] CHART (3)\n",
    "# TOP30 (周)\n",
    "shapes = slide.shapes[7]\n",
    "\n",
    "chart_data = ChartData()\n",
    "chart_data.categories = ['1', '2', '3', '4','5', '6', '7', '8', '9', '10']\n",
    "chart_data.add_series('溢价率<10%', (1,2,3,4,5,6,7,8,9,10))\n",
    "chart_data.add_series('溢价率10-50%', (1,2,3,4,5,6,7,8,9,10))\n",
    "chart_data.add_series('溢价率>50%', (1,2,3,4,5,6,7,8,9,10))\n",
    "\n",
    "\n",
    "\n",
    "# 替换数据\n",
    "shapes.chart.replace_data(chart_data)"
   ]
  },
  {
   "cell_type": "markdown",
   "metadata": {
    "hidden": true
   },
   "source": [
    "**TOP30-50   周更**"
   ]
  },
  {
   "cell_type": "code",
   "execution_count": 7,
   "metadata": {
    "hidden": true
   },
   "outputs": [],
   "source": [
    "# slides[7].shapes[9] CHART (3)\n",
    "# TOP30-50 (周)\n",
    "shapes = slide.shapes[8]\n",
    "\n",
    "chart_data = ChartData()\n",
    "chart_data.categories = ['1', '2', '3', '4','5', '6', '7', '8', '9', '10']\n",
    "chart_data.add_series('溢价率<10%', (10,9,8,7,6,5,4,3,2,1))\n",
    "chart_data.add_series('溢价率10-50%', (10,9,8,7,6,5,4,3,2,1))\n",
    "chart_data.add_series('溢价率>50%', (10,9,8,7,6,5,4,3,2,1))\n",
    "\n",
    "\n",
    "\n",
    "# 替换数据\n",
    "shapes.chart.replace_data(chart_data)"
   ]
  },
  {
   "cell_type": "markdown",
   "metadata": {
    "hidden": true
   },
   "source": [
    "**TOP30   月更**"
   ]
  },
  {
   "cell_type": "code",
   "execution_count": 8,
   "metadata": {
    "hidden": true
   },
   "outputs": [],
   "source": [
    "# slides[7].shapes[7] CHART (3)\n",
    "# TOP30房企溢价率走势 (月)\n",
    "shapes = slide.shapes[9]\n",
    "\n",
    "chart_data = ChartData()\n",
    "chart_data.categories = ['1', '2', '3', '4','5', '6', '7', '8', '9', '10']\n",
    "chart_data.add_series('溢价率<10%', (1,2,3,3,2,1,1,2,3,2))\n",
    "chart_data.add_series('溢价率10-50%', (1,2,3,3,2,1,1,2,3,2))\n",
    "chart_data.add_series('溢价率>50%', (1,2,3,3,2,1,1,2,3,2))\n",
    "\n",
    "\n",
    "\n",
    "# 替换数据\n",
    "shapes.chart.replace_data(chart_data)"
   ]
  },
  {
   "cell_type": "markdown",
   "metadata": {
    "hidden": true
   },
   "source": [
    "**TOP30-50   月更**"
   ]
  },
  {
   "cell_type": "code",
   "execution_count": 9,
   "metadata": {
    "hidden": true
   },
   "outputs": [],
   "source": [
    "# slides[7].shapes[10] CHART (3)\n",
    "# TOP30房企溢价率走势 (月)\n",
    "shapes = slide.shapes[10]\n",
    "\n",
    "chart_data = ChartData()\n",
    "chart_data.categories = ['1', '2', '3', '4','5', '6', '7', '8', '9', '10']\n",
    "chart_data.add_series('溢价率<10%', (7,8,9,7,8,9,7,8,9,7))\n",
    "chart_data.add_series('溢价率10-50%', (7,8,9,7,8,9,7,8,9,7))\n",
    "chart_data.add_series('溢价率>50%', (7,8,9,7,8,9,7,8,9,7))\n",
    "\n",
    "\n",
    "\n",
    "# 替换数据\n",
    "shapes.chart.replace_data(chart_data)"
   ]
  },
  {
   "cell_type": "code",
   "execution_count": null,
   "metadata": {
    "hidden": true
   },
   "outputs": [],
   "source": []
  },
  {
   "attachments": {
    "image.png": {
     "image/png": "[encoded data removed]"
    }
   },
   "cell_type": "markdown",
   "metadata": {
    "hidden": true
   },
   "source": [
    "**房企布局**\n",
    "![image.png](attachment:image.png)"
   ]
  },
  {
   "cell_type": "code",
   "execution_count": null,
   "metadata": {
    "hidden": true
   },
   "outputs": [],
   "source": []
  },
  {
   "cell_type": "code",
   "execution_count": null,
   "metadata": {
    "hidden": true
   },
   "outputs": [],
   "source": []
  },
  {
   "attachments": {},
   "cell_type": "markdown",
   "metadata": {
    "hidden": true
   },
   "source": [
    "###   第四张幻灯片\n",
    "\n",
    "```\n",
    "本周标杆房企拿地布局\n",
    "![image.png](attachment:image.png)\n",
    "```"
   ]
  },
  {
   "cell_type": "code",
   "execution_count": 12,
   "metadata": {
    "hidden": true
   },
   "outputs": [
    {
     "name": "stdout",
     "output_type": "stream",
     "text": [
      "slides[3].shapes[0] TEXT_BOX (17)\n",
      "数据来源：中指\n",
      "\n",
      "slides[3].shapes[1] TEXT_BOX (17)\n",
      "6、房企融资\n",
      "\n",
      "slides[3].shapes[2] CHART (3)\n",
      "TOP50房企当周融资情况\n",
      "\n",
      "slides[3].shapes[3] CHART (3)\n",
      "TOP50房企融资走势\n",
      "\n"
     ]
    }
   ],
   "source": [
    "i = 3\n",
    "slide = prs.slides[3]\n",
    "for j,shape in enumerate(slide.shapes):\n",
    "\n",
    "    print('slides[%s]'%i+'.shapes[%s]'%j,shape.shape_type)\n",
    "    if shape.has_text_frame:\n",
    "        print(shape.text_frame.text)\n",
    "    if shape.has_chart:\n",
    "        print(shape.chart.chart_title.text_frame.text)\n",
    "    print()"
   ]
  },
  {
   "cell_type": "code",
   "execution_count": null,
   "metadata": {
    "hidden": true
   },
   "outputs": [],
   "source": []
  },
  {
   "cell_type": "code",
   "execution_count": null,
   "metadata": {
    "hidden": true
   },
   "outputs": [],
   "source": []
  },
  {
   "cell_type": "code",
   "execution_count": null,
   "metadata": {
    "hidden": true
   },
   "outputs": [],
   "source": []
  },
  {
   "cell_type": "code",
   "execution_count": null,
   "metadata": {
    "hidden": true
   },
   "outputs": [],
   "source": []
  },
  {
   "cell_type": "code",
   "execution_count": null,
   "metadata": {
    "hidden": true
   },
   "outputs": [],
   "source": []
  },
  {
   "cell_type": "code",
   "execution_count": 11,
   "metadata": {
    "hidden": true
   },
   "outputs": [],
   "source": [
    "prs.save('./数据整理/测试ppt.pptx')"
   ]
  },
  {
   "cell_type": "code",
   "execution_count": null,
   "metadata": {
    "hidden": true
   },
   "outputs": [],
   "source": []
  }
 ],
 "metadata": {
  "kernelspec": {
   "display_name": "Python 3",
   "language": "python",
   "name": "python3"
  },
  "language_info": {
   "codemirror_mode": {
    "name": "ipython",
    "version": 3
   },
   "file_extension": ".py",
   "mimetype": "text/x-python",
   "name": "python",
   "nbconvert_exporter": "python",
   "pygments_lexer": "ipython3",
   "version": "3.6.5"
  },
  "toc": {
   "base_numbering": 1,
   "nav_menu": {},
   "number_sections": true,
   "sideBar": true,
   "skip_h1_title": false,
   "title_cell": "Table of Contents",
   "title_sidebar": "Contents",
   "toc_cell": false,
   "toc_position": {},
   "toc_section_display": true,
   "toc_window_display": true
  },
  "varInspector": {
   "cols": {
    "lenName": 16,
    "lenType": 16,
    "lenVar": 40
   },
   "kernels_config": {
    "python": {
     "delete_cmd_postfix": "",
     "delete_cmd_prefix": "del ",
     "library": "var_list.py",
     "varRefreshCmd": "print(var_dic_list())"
    },
    "r": {
     "delete_cmd_postfix": ") ",
     "delete_cmd_prefix": "rm(",
     "library": "var_list.r",
     "varRefreshCmd": "cat(var_dic_list()) "
    }
   },
   "types_to_exclude": [
    "module",
    "function",
    "builtin_function_or_method",
    "instance",
    "_Feature"
   ],
   "window_display": false
  }
 },
 "nbformat": 4,
 "nbformat_minor": 2
}
