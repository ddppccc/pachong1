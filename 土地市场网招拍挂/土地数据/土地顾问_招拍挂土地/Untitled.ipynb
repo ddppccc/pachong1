{
 "cells": [
  {
   "cell_type": "code",
   "execution_count": 56,
   "metadata": {},
   "outputs": [],
   "source": [
    "import pandas as pd\n",
    "import numpy as np"
   ]
  },
  {
   "cell_type": "code",
   "execution_count": 82,
   "metadata": {},
   "outputs": [
    {
     "name": "stderr",
     "output_type": "stream",
     "text": [
      "e:\\代码备份\\enviroment\\workon\\python-ppt\\newvenv\\lib\\site-packages\\IPython\\core\\interactiveshell.py:3147: DtypeWarning: Columns (10) have mixed types.Specify dtype option on import or set low_memory=False.\n",
      "  interactivity=interactivity, compiler=compiler, result=result)\n",
      "e:\\代码备份\\enviroment\\workon\\python-ppt\\newvenv\\lib\\site-packages\\IPython\\core\\interactiveshell.py:3147: DtypeWarning: Columns (19) have mixed types.Specify dtype option on import or set low_memory=False.\n",
      "  interactivity=interactivity, compiler=compiler, result=result)\n"
     ]
    }
   ],
   "source": [
    "df1 = pd.read_csv('招拍挂数据_2000-01-01_2004-12-31.csv')\n",
    "df2 = pd.read_csv('招拍挂数据_2004-01-01_2006-12-31.csv')\n",
    "df3 = pd.read_csv('招拍挂数据_2007-01-01_2007-12-31.csv')\n",
    "df4 = pd.read_csv('招拍挂数据_2008-01-01_2008-12-31.csv')\n",
    "df5 = pd.read_csv('招拍挂数据_2009-01-01_2010-12-31.csv')\n",
    "df6 = pd.read_csv('招拍挂数据_2011-01-01_2011-12-31.csv')\n",
    "df7 = pd.read_csv('招拍挂数据_2012-01-01_2012-12-31.csv')\n",
    "df8 = pd.read_csv('招拍挂数据_2013-01-01_2013-12-31.csv')\n",
    "df9 = pd.read_csv('招拍挂数据_2014-01-01_2014-12-31.csv')\n",
    "df10 = pd.read_csv('招拍挂数据_2015-01-01_2015-12-31.csv')\n",
    "df11 = pd.read_csv('招拍挂数据_2016-01-01_2016-12-31.csv')\n",
    "df12 = pd.read_csv('招拍挂数据_2017-01-01_2017-12-31.csv')\n",
    "df13 = pd.read_csv('招拍挂数据_2018-01-01_2018-12-31.csv')\n",
    "df14 = pd.read_csv('招拍挂数据_2019-01-01_2019-12-31.csv')\n",
    "df15 = pd.read_csv('招拍挂数据_2020-01-01_2020-06-29.csv')\n",
    "df16 = pd.read_csv('招拍挂数据_2020_06_01_2020_12_25.csv')"
   ]
  },
  {
   "cell_type": "code",
   "execution_count": 198,
   "metadata": {},
   "outputs": [
    {
     "data": {
      "text/plain": [
       "Index(['年', '月', '城市', '区县', '板块', 'LandID', '土地名称', '土地地址', '宗地编号', '土地属性',\n",
       "       '用地面积(㎡)', '规划面积(㎡)', '出让底价(万元)', '成交总价(万元)', '成交楼板价(元/㎡)',\n",
       "       '成交每亩地价(元/亩)', '保证金(万元)', '成交状态', '溢价率', '容积率', '绿化率', '建筑密度', '公告日期',\n",
       "       '土地使用年限', '页码数(仅做记录)'],\n",
       "      dtype='object')"
      ]
     },
     "execution_count": 198,
     "metadata": {},
     "output_type": "execute_result"
    }
   ],
   "source": [
    "df1.columns"
   ]
  },
  {
   "cell_type": "code",
   "execution_count": 185,
   "metadata": {
    "scrolled": true
   },
   "outputs": [
    {
     "data": {
      "text/plain": [
       "Index(['区县', '城市', '公告日期', '宗地编号', '土地名称', '土地使用年限', '容积率', '建筑密度', '绿化率',\n",
       "       '土地属性', '出让底价(万元)', '保证金(万元)', '土地地址', '成交价(万元)', '溢价率', '成交楼板价(元/㎡)',\n",
       "       '成交每亩地价(元/亩)', '成交状态'],\n",
       "      dtype='object')"
      ]
     },
     "execution_count": 185,
     "metadata": {},
     "output_type": "execute_result"
    }
   ],
   "source": [
    "df16.columns"
   ]
  },
  {
   "cell_type": "code",
   "execution_count": 181,
   "metadata": {
    "scrolled": true
   },
   "outputs": [
    {
     "data": {
      "text/plain": [
       "(37439, 19)"
      ]
     },
     "execution_count": 181,
     "metadata": {},
     "output_type": "execute_result"
    }
   ],
   "source": [
    "df16.shape"
   ]
  },
  {
   "cell_type": "code",
   "execution_count": 184,
   "metadata": {},
   "outputs": [],
   "source": [
    "df16 = df16.drop(columns=['成交日期'])"
   ]
  },
  {
   "cell_type": "code",
   "execution_count": 113,
   "metadata": {},
   "outputs": [],
   "source": [
    "dataframe = dataframe.drop(columns=[ '页码数(仅做记录)'])"
   ]
  },
  {
   "cell_type": "code",
   "execution_count": 144,
   "metadata": {},
   "outputs": [],
   "source": [
    "df16['成交状态'] = '成交'"
   ]
  },
  {
   "cell_type": "code",
   "execution_count": 151,
   "metadata": {
    "scrolled": true
   },
   "outputs": [],
   "source": [
    "df16 = df16.rename(columns={'出让年限':'土地使用年限'})"
   ]
  },
  {
   "cell_type": "code",
   "execution_count": 83,
   "metadata": {},
   "outputs": [],
   "source": [
    "dataframe = pd.concat([df1,df2,df3,df4,df5,df6,df7,df8,df9,df10,df11,df12,df13,df14,df15])"
   ]
  },
  {
   "cell_type": "code",
   "execution_count": 187,
   "metadata": {},
   "outputs": [
    {
     "data": {
      "text/plain": [
       "(1003807, 19)"
      ]
     },
     "execution_count": 187,
     "metadata": {},
     "output_type": "execute_result"
    }
   ],
   "source": [
    "dataframe.shape"
   ]
  },
  {
   "cell_type": "code",
   "execution_count": 188,
   "metadata": {},
   "outputs": [
    {
     "data": {
      "text/plain": [
       "Index(['城市', '区县', '土地名称', '土地地址', '宗地编号', '土地属性', '出让底价(万元)', '成交总价(万元)',\n",
       "       '成交楼板价(元/㎡)', '成交每亩地价(元/亩)', '保证金(万元)', '成交状态', '溢价率', '容积率', '绿化率',\n",
       "       '建筑密度', '公告日期', '土地使用年限', '成交价(万元)'],\n",
       "      dtype='object')"
      ]
     },
     "execution_count": 188,
     "metadata": {},
     "output_type": "execute_result"
    }
   ],
   "source": [
    "dataframe.columns"
   ]
  },
  {
   "cell_type": "code",
   "execution_count": 186,
   "metadata": {},
   "outputs": [],
   "source": [
    "dataframe = pd.concat([dataframe,df16])"
   ]
  },
  {
   "cell_type": "code",
   "execution_count": 207,
   "metadata": {},
   "outputs": [],
   "source": [
    "dataframe[dataframe['城市']=='惠州市'].to_csv('惠州市.csv')"
   ]
  },
  {
   "cell_type": "code",
   "execution_count": 197,
   "metadata": {},
   "outputs": [],
   "source": [
    "dataframe.to_csv('土地网合并.csv')"
   ]
  }
 ],
 "metadata": {
  "kernelspec": {
   "display_name": "Python 3",
   "language": "python",
   "name": "python3"
  },
  "language_info": {
   "codemirror_mode": {
    "name": "ipython",
    "version": 3
   },
   "file_extension": ".py",
   "mimetype": "text/x-python",
   "name": "python",
   "nbconvert_exporter": "python",
   "pygments_lexer": "ipython3",
   "version": "3.7.1"
  }
 },
 "nbformat": 4,
 "nbformat_minor": 4
}
